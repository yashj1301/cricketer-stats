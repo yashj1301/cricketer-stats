{
 "cells": [
  {
   "cell_type": "markdown",
   "metadata": {},
   "source": [
    "## Scraping test"
   ]
  },
  {
   "cell_type": "code",
   "execution_count": 1,
   "metadata": {},
   "outputs": [],
   "source": [
    "import time\n",
    "import pandas as pd\n",
    "from selenium import webdriver\n",
    "from selenium.webdriver.chrome.service import Service\n",
    "from selenium.webdriver.common.by import By\n",
    "from selenium.webdriver.chrome.options import Options\n",
    "from webdriver_manager.chrome import ChromeDriverManager\n",
    "\n",
    "class Cricketer_Stats_Scraper:\n",
    "\n",
    "    def __init__(self, player_name):\n",
    "        self.player_name = player_name\n",
    "        self.player_id = None\n",
    "        self.player_url = None\n",
    "    \n",
    "        # Initialize class variables for storing stats\n",
    "        self.battingstats = None\n",
    "        self.bowlingstats = None\n",
    "        self.allroundstats = None\n",
    "        self.fieldingstats = None\n",
    "        self.player_info = None\n",
    "\n",
    "        # Set up the WebDriver and open the search URL\n",
    "        options = webdriver.ChromeOptions()\n",
    "        options.add_argument(\"--headless\")  # Run in headless mode\n",
    "        options.add_argument(\"user-agent=Mozilla/5.0 (Windows NT 10.0; Win64; x64) AppleWebKit/537.36 (KHTML, like Gecko) Chrome/91.0.4472.124 Safari/537.36\")\n",
    "        print(\"Setting up WebDriver...\")\n",
    "        self.driver = webdriver.Chrome(service=Service(ChromeDriverManager().install()), options=options)\n",
    "\n",
    "        # Call get_player_url() to fetch the player's URL and ID when the object is initialized\n",
    "        self.get_player_url()\n",
    "\n",
    "    def get_player_url(self):\n",
    "        start_time = time.time()\n",
    "        print(f\"Extracting {self.player_name}'s player URL and Player ID....\")\n",
    "        search_url = f\"https://search.espncricinfo.com/ci/content/site/search.html?search={self.player_name.lower().replace(' ', '%20')};type=player\"\n",
    "        self.driver.get(search_url)\n",
    "\n",
    "        try:\n",
    "            player_link_element = self.driver.find_element(By.CSS_SELECTOR, \"h3.name.link-cta a\")\n",
    "            self.player_url = player_link_element.get_attribute(\"href\")\n",
    "            self.player_id = self.player_url.split('-')[-1]\n",
    "            print(f\"Extraction Successful for {self.player_name}.\")\n",
    "            end_time = time.time()\n",
    "            print(f\"Time taken to extract URL: {end_time - start_time:.2f} seconds\")\n",
    "        except Exception as e:\n",
    "            print(f\"Error in extracting {self.player_name}'s url:\", e)\n",
    "            return None, None\n",
    "\n",
    "    def extract_inns_data(self, record_type):\n",
    "        start_time = time.time()\n",
    "        print(f\"Starting extraction of {self.player_name}'s {record_type} stats....\")\n",
    "        \n",
    "        # Construct the search URL based on record_type (batting, bowling, etc.)\n",
    "        search_url = f\"https://stats.espncricinfo.com/ci/engine/player/{self.player_id}.html?class=11;template=results;type={record_type};view=innings\"\n",
    "        \n",
    "        # Open the URL\n",
    "        self.driver.get(search_url)\n",
    "\n",
    "        # Step 1: Extract the headers of the table\n",
    "        headers = self.driver.find_elements(By.CSS_SELECTOR, \"thead tr.headlinks th\")\n",
    "        header_names = [header.text for header in headers if header.text != ''] + ['Match id']  # Add match_id column name\n",
    "        \n",
    "        # Step 2: Extract the data from the 4th tbody\n",
    "        rows = self.driver.find_elements(By.XPATH, \"(//tbody)[4]//tr\")\n",
    "        \n",
    "        # Step 3: Extract the data column-wise and store it in a list\n",
    "        player_data = []\n",
    "        for row in rows:\n",
    "            cells = row.find_elements(By.TAG_NAME, \"td\")\n",
    "            row_data = [cell.text for cell in cells if cell.text != '']\n",
    "            player_data.append(row_data)\n",
    "        \n",
    "        # Step 4: Create a DataFrame from the extracted data\n",
    "        innings_data = pd.DataFrame(player_data, columns=header_names)\n",
    "        \n",
    "        end_time = time.time()\n",
    "        print(f\"Extracted {innings_data.shape[0]} records in {end_time - start_time:.2f} seconds\")\n",
    "        \n",
    "        return innings_data\n",
    "\n",
    "    def extract_player_info(self):\n",
    "        try:\n",
    "            start_time = time.time()\n",
    "            print(f\"Starting extraction of {self.player_name}'s personal info....\")\n",
    "            \n",
    "            # Start by opening the player info URL\n",
    "            self.driver.get(self.player_url)\n",
    "\n",
    "            # Step 1: Extract headers within the specified div tag\n",
    "            headers = self.driver.find_elements(By.XPATH, \"//div[@class='ds-grid lg:ds-grid-cols-3 ds-grid-cols-2 ds-gap-4 ds-mb-8']//p[@class='ds-text-tight-m ds-font-regular ds-uppercase ds-text-typo-mid3']\")\n",
    "            header_names = ['Player ID','Player URL']+[header.text for header in headers]\n",
    "\n",
    "            # Step 2: Extract values within the specified div tag\n",
    "            values = self.driver.find_elements(By.XPATH, \"//div[@class='ds-grid lg:ds-grid-cols-3 ds-grid-cols-2 ds-gap-4 ds-mb-8']//span[@class='ds-text-title-s ds-font-bold ds-text-typo']\")\n",
    "            value_texts = [self.player_id,self.player_url]+[value.text for value in values]\n",
    "\n",
    "            # Step 3: Create a DataFrame from the extracted data\n",
    "            player_info = pd.DataFrame([value_texts], columns=header_names)\n",
    "\n",
    "            end_time = time.time()\n",
    "            print(f\"Extracted player info in {end_time - start_time:.2f} seconds\")\n",
    "\n",
    "            return player_info\n",
    "            \n",
    "        except Exception as e:\n",
    "            print(f\"Error in extracting {self.player_name}'s personal info:\", e)\n",
    "            return None\n",
    "\n",
    "    def get_player_stats(self, stats_type=\"all\"):\n",
    "        try:\n",
    "            # Ensure that player ID or player URL is available\n",
    "            if not (self.player_id or self.player_url):\n",
    "                print(\"Player ID is not available. Run get_player_url() first.\")\n",
    "                return\n",
    "            \n",
    "            # Fetch personal information if 'personal_info' is passed\n",
    "            if stats_type == \"personal_info\":\n",
    "                self.player_info = self.extract_player_info()\n",
    "            \n",
    "            # Fetch batting stats if 'all' or 'batting' is passed\n",
    "            if stats_type == \"all\" or stats_type == \"batting\":\n",
    "                self.battingstats = self.extract_inns_data('batting')\n",
    "\n",
    "            # Fetch bowling stats if 'all' or 'bowling' is passed\n",
    "            if stats_type == \"all\" or stats_type == \"bowling\":\n",
    "                self.bowlingstats = self.extract_inns_data('bowling')\n",
    "\n",
    "            # Check if the player is an all-rounder and fetch all-round stats\n",
    "            if stats_type == \"all\" or stats_type == \"allround\":\n",
    "                self.player_info = self.extract_player_info()\n",
    "                if self.player_info is not None and 'allround' in self.player_info['PLAYING ROLE'][0].lower():\n",
    "                    self.allroundstats = self.extract_inns_data('allround')\n",
    "\n",
    "            # Fetch fielding stats if 'all' or 'fielding' is passed\n",
    "            if stats_type == \"all\" or stats_type == \"fielding\":\n",
    "                self.fieldingstats = self.extract_inns_data('fielding')\n",
    "\n",
    "        except Exception as e:\n",
    "            print(f\"Error in extracting stats for {self.player_name}: \", e)\n",
    "\n",
    "\n",
    "    def __del__(self):\n",
    "        try:\n",
    "            self.driver.quit()\n",
    "            print(\"WebDriver closed successfully.\")\n",
    "        except Exception as e:\n",
    "            print(\"Error while closing the WebDriver:\", e)\n",
    "\n"
   ]
  },
  {
   "cell_type": "markdown",
   "metadata": {},
   "source": [
    "##### Extracting Ground Information\n",
    "\n",
    "The following functions are built to extract ground information. However, these are very resource-intensive, so we will take it up later. "
   ]
  },
  {
   "cell_type": "code",
   "execution_count": 3,
   "metadata": {},
   "outputs": [],
   "source": [
    "def extract_ground_links(player_id):\n",
    "    \"\"\"\n",
    "    This function extracts ground links from the player innings data, ensuring no duplicate ground info is scraped.\n",
    "    \"\"\"\n",
    "    # Step 1: Initialize the DataFrame to store ground info\n",
    "    ground_info_df = pd.DataFrame(columns=[\"Ground ID\", \"Stadium Name\", \"Location\", \"Home Team\", \"Image URL\"])\n",
    "\n",
    "    # Set up the WebDriver for scraping\n",
    "    options = webdriver.ChromeOptions()\n",
    "    options.add_argument(\"--headless\")\n",
    "    driver = webdriver.Chrome(service=Service(ChromeDriverManager().install()), options=options)\n",
    "    \n",
    "    # Scrape Player Stats Page\n",
    "    search_url = f\"https://stats.espncricinfo.com/ci/engine/player/{player_id}.html?class=11;template=results;type=batting;view=innings\"\n",
    "    driver.get(search_url)\n",
    "    \n",
    "    # Extract ground links from innings data\n",
    "    rows = driver.find_elements(By.XPATH, \"(//tbody)[4]//tr\")\n",
    "    ground_links = []\n",
    "    \n",
    "    for row in rows:\n",
    "        try:\n",
    "            ground_name_element = row.find_element(By.XPATH, \".//td[contains(@class, 'left')][2]/a\")\n",
    "            ground_name = ground_name_element.text\n",
    "            ground_link = ground_name_element.get_attribute('href')\n",
    "            ground_links.append((ground_name, ground_link))\n",
    "        except Exception as e:\n",
    "            print(f\"Error extracting ground data: {e}\")\n",
    "            continue\n",
    "\n",
    "    # Step 2: Check if the ground has already been scraped (exists in ground_info DataFrame)\n",
    "    for ground_name, ground_link in ground_links:\n",
    "        if ground_name not in ground_info_df['Stadium Name'].values:\n",
    "            # Create a new DataFrame for the new ground\n",
    "            new_data = pd.DataFrame({\"Stadium Name\": [ground_name], \"Ground Link\": [ground_link]})\n",
    "            ground_info_df = pd.concat([ground_info_df, new_data], ignore_index=True)\n",
    "        else:\n",
    "            print(f\"Ground {ground_name} has already been scraped. Skipping.\")\n",
    "\n",
    "    # Step 3: Extract ground info for each link and append it to the ground_info_df\n",
    "    for ground_link in ground_info_df['Ground Link']:\n",
    "        ground_info_df = extract_ground_info(ground_link, ground_info_df)\n",
    "    \n",
    "    driver.quit()\n",
    "    return ground_info_df\n",
    "\n",
    "def extract_ground_info(ground_url, ground_info_df):\n",
    "    \"\"\"\n",
    "    This function extracts ground information (ID, stadium name, location, home team, image URL)\n",
    "    from a given ground URL and appends the data to the provided dataframe.\n",
    "    \"\"\"\n",
    "    start_time = time.time()\n",
    "    \n",
    "    # Set up the WebDriver for scraping ground info\n",
    "    options = webdriver.ChromeOptions()\n",
    "    options.add_argument(\"--headless\")\n",
    "    driver = webdriver.Chrome(service=Service(ChromeDriverManager().install()), options=options)\n",
    "    \n",
    "    driver.get(ground_url)\n",
    "    \n",
    "    try:\n",
    "        # 1. Ground ID (numeric portion of the URL)\n",
    "        ground_id = ground_url.split('/')[-1].split('.')[0]\n",
    "        \n",
    "        # 2. Ground image URL\n",
    "        img_element = driver.find_element(By.XPATH, \"//div[@class='ds-p-0']//img[1]\")\n",
    "        image_url = img_element.get_attribute(\"src\")\n",
    "        \n",
    "        # 3. Stadium Name\n",
    "        stadium_name = driver.find_element(By.XPATH, \"//span[contains(@class, 'ds-text-title-m') and contains(@class, 'ds-font-bold')]\").text\n",
    "        \n",
    "        # 4. Location (City)\n",
    "        location = driver.find_element(By.XPATH, \"//span[contains(@class, 'ds-text-compact-s') and contains(@class, 'ds-font-bold')]\").text.strip().replace(\"\\n\", \", \")\n",
    "        \n",
    "        # 5. Home Team (Country)\n",
    "        home_team_text = driver.find_element(By.XPATH, \"//span[contains(text(), 'Grounds in')]\").text\n",
    "        home_team = home_team_text.split(\"Grounds in\")[-1].strip()\n",
    "        \n",
    "        # Prepare the ground info as a dictionary\n",
    "        ground_info = pd.DataFrame({\n",
    "            \"Ground ID\": [ground_id],\n",
    "            \"Stadium Name\": [stadium_name],\n",
    "            \"Location\": [location],\n",
    "            \"Home Team\": [home_team],\n",
    "            \"Image URL\": [image_url]\n",
    "        })\n",
    "        \n",
    "        # Append the ground info to the DataFrame\n",
    "        ground_info_df = pd.concat([ground_info_df,ground_info], ignore_index=True)\n",
    "        print(f\"Extracted info for ground {stadium_name} in {time.time() - start_time:.2f} seconds.\")\n",
    "    \n",
    "    except Exception as e:\n",
    "        print(f\"Error while extracting info for {ground_url}: {e}\")\n",
    "    \n",
    "    driver.quit()\n",
    "    return ground_info_df"
   ]
  },
  {
   "cell_type": "code",
   "execution_count": 4,
   "metadata": {},
   "outputs": [
    {
     "ename": "KeyboardInterrupt",
     "evalue": "",
     "output_type": "error",
     "traceback": [
      "\u001b[1;31m---------------------------------------------------------------------------\u001b[0m",
      "\u001b[1;31mKeyboardInterrupt\u001b[0m                         Traceback (most recent call last)",
      "Cell \u001b[1;32mIn[4], line 6\u001b[0m\n\u001b[0;32m      4\u001b[0m options \u001b[38;5;241m=\u001b[39m webdriver\u001b[38;5;241m.\u001b[39mChromeOptions()\n\u001b[0;32m      5\u001b[0m options\u001b[38;5;241m.\u001b[39madd_argument(\u001b[38;5;124m\"\u001b[39m\u001b[38;5;124m--headless\u001b[39m\u001b[38;5;124m\"\u001b[39m)\n\u001b[1;32m----> 6\u001b[0m driver \u001b[38;5;241m=\u001b[39m webdriver\u001b[38;5;241m.\u001b[39mChrome(service\u001b[38;5;241m=\u001b[39mService(\u001b[43mChromeDriverManager\u001b[49m\u001b[43m(\u001b[49m\u001b[43m)\u001b[49m\u001b[38;5;241;43m.\u001b[39;49m\u001b[43minstall\u001b[49m\u001b[43m(\u001b[49m\u001b[43m)\u001b[49m), options\u001b[38;5;241m=\u001b[39moptions)\n\u001b[0;32m      8\u001b[0m driver\u001b[38;5;241m.\u001b[39mget(ground_url)\n\u001b[0;32m     10\u001b[0m \u001b[38;5;28;01mtry\u001b[39;00m:\n\u001b[0;32m     11\u001b[0m     \u001b[38;5;66;03m# 1. Ground ID (numeric portion of the URL)\u001b[39;00m\n",
      "File \u001b[1;32mc:\\Users\\YASH\\AppData\\Local\\Programs\\Python\\Python313\\Lib\\site-packages\\webdriver_manager\\chrome.py:40\u001b[0m, in \u001b[0;36mChromeDriverManager.install\u001b[1;34m(self)\u001b[0m\n\u001b[0;32m     39\u001b[0m \u001b[38;5;28;01mdef\u001b[39;00m \u001b[38;5;21minstall\u001b[39m(\u001b[38;5;28mself\u001b[39m) \u001b[38;5;241m-\u001b[39m\u001b[38;5;241m>\u001b[39m \u001b[38;5;28mstr\u001b[39m:\n\u001b[1;32m---> 40\u001b[0m     driver_path \u001b[38;5;241m=\u001b[39m \u001b[38;5;28;43mself\u001b[39;49m\u001b[38;5;241;43m.\u001b[39;49m\u001b[43m_get_driver_binary_path\u001b[49m\u001b[43m(\u001b[49m\u001b[38;5;28;43mself\u001b[39;49m\u001b[38;5;241;43m.\u001b[39;49m\u001b[43mdriver\u001b[49m\u001b[43m)\u001b[49m\n\u001b[0;32m     41\u001b[0m     os\u001b[38;5;241m.\u001b[39mchmod(driver_path, \u001b[38;5;241m0o755\u001b[39m)\n\u001b[0;32m     42\u001b[0m     \u001b[38;5;28;01mreturn\u001b[39;00m driver_path\n",
      "File \u001b[1;32mc:\\Users\\YASH\\AppData\\Local\\Programs\\Python\\Python313\\Lib\\site-packages\\webdriver_manager\\core\\manager.py:40\u001b[0m, in \u001b[0;36mDriverManager._get_driver_binary_path\u001b[1;34m(self, driver)\u001b[0m\n\u001b[0;32m     37\u001b[0m     \u001b[38;5;28;01mreturn\u001b[39;00m binary_path\n\u001b[0;32m     39\u001b[0m os_type \u001b[38;5;241m=\u001b[39m \u001b[38;5;28mself\u001b[39m\u001b[38;5;241m.\u001b[39mget_os_type()\n\u001b[1;32m---> 40\u001b[0m file \u001b[38;5;241m=\u001b[39m \u001b[38;5;28mself\u001b[39m\u001b[38;5;241m.\u001b[39m_download_manager\u001b[38;5;241m.\u001b[39mdownload_file(\u001b[43mdriver\u001b[49m\u001b[38;5;241;43m.\u001b[39;49m\u001b[43mget_driver_download_url\u001b[49m\u001b[43m(\u001b[49m\u001b[43mos_type\u001b[49m\u001b[43m)\u001b[49m)\n\u001b[0;32m     41\u001b[0m binary_path \u001b[38;5;241m=\u001b[39m \u001b[38;5;28mself\u001b[39m\u001b[38;5;241m.\u001b[39m_cache_manager\u001b[38;5;241m.\u001b[39msave_file_to_cache(driver, file)\n\u001b[0;32m     42\u001b[0m \u001b[38;5;28;01mreturn\u001b[39;00m binary_path\n",
      "File \u001b[1;32mc:\\Users\\YASH\\AppData\\Local\\Programs\\Python\\Python313\\Lib\\site-packages\\webdriver_manager\\drivers\\chrome.py:32\u001b[0m, in \u001b[0;36mChromeDriver.get_driver_download_url\u001b[1;34m(self, os_type)\u001b[0m\n\u001b[0;32m     31\u001b[0m \u001b[38;5;28;01mdef\u001b[39;00m \u001b[38;5;21mget_driver_download_url\u001b[39m(\u001b[38;5;28mself\u001b[39m, os_type):\n\u001b[1;32m---> 32\u001b[0m     driver_version_to_download \u001b[38;5;241m=\u001b[39m \u001b[38;5;28;43mself\u001b[39;49m\u001b[38;5;241;43m.\u001b[39;49m\u001b[43mget_driver_version_to_download\u001b[49m\u001b[43m(\u001b[49m\u001b[43m)\u001b[49m\n\u001b[0;32m     33\u001b[0m     \u001b[38;5;66;03m# For Mac ARM CPUs after version 106.0.5249.61 the format of OS type changed\u001b[39;00m\n\u001b[0;32m     34\u001b[0m     \u001b[38;5;66;03m# to more unified \"mac_arm64\". For newer versions, it'll be \"mac_arm64\"\u001b[39;00m\n\u001b[0;32m     35\u001b[0m     \u001b[38;5;66;03m# by default, for lower versions we replace \"mac_arm64\" to old format - \"mac64_m1\".\u001b[39;00m\n\u001b[0;32m     36\u001b[0m     \u001b[38;5;28;01mif\u001b[39;00m version\u001b[38;5;241m.\u001b[39mparse(driver_version_to_download) \u001b[38;5;241m<\u001b[39m version\u001b[38;5;241m.\u001b[39mparse(\u001b[38;5;124m\"\u001b[39m\u001b[38;5;124m106.0.5249.61\u001b[39m\u001b[38;5;124m\"\u001b[39m):\n",
      "File \u001b[1;32mc:\\Users\\YASH\\AppData\\Local\\Programs\\Python\\Python313\\Lib\\site-packages\\webdriver_manager\\core\\driver.py:48\u001b[0m, in \u001b[0;36mDriver.get_driver_version_to_download\u001b[1;34m(self)\u001b[0m\n\u001b[0;32m     45\u001b[0m \u001b[38;5;28;01mif\u001b[39;00m \u001b[38;5;28mself\u001b[39m\u001b[38;5;241m.\u001b[39m_driver_version_to_download:\n\u001b[0;32m     46\u001b[0m     \u001b[38;5;28;01mreturn\u001b[39;00m \u001b[38;5;28mself\u001b[39m\u001b[38;5;241m.\u001b[39m_driver_version_to_download\n\u001b[1;32m---> 48\u001b[0m \u001b[38;5;28;01mreturn\u001b[39;00m \u001b[38;5;28;43mself\u001b[39;49m\u001b[38;5;241;43m.\u001b[39;49m\u001b[43mget_latest_release_version\u001b[49m\u001b[43m(\u001b[49m\u001b[43m)\u001b[49m\n",
      "File \u001b[1;32mc:\\Users\\YASH\\AppData\\Local\\Programs\\Python\\Python313\\Lib\\site-packages\\webdriver_manager\\drivers\\chrome.py:59\u001b[0m, in \u001b[0;36mChromeDriver.get_latest_release_version\u001b[1;34m(self)\u001b[0m\n\u001b[0;32m     57\u001b[0m \u001b[38;5;28;01mif\u001b[39;00m determined_browser_version \u001b[38;5;129;01mis\u001b[39;00m \u001b[38;5;129;01mnot\u001b[39;00m \u001b[38;5;28;01mNone\u001b[39;00m \u001b[38;5;129;01mand\u001b[39;00m version\u001b[38;5;241m.\u001b[39mparse(determined_browser_version) \u001b[38;5;241m>\u001b[39m\u001b[38;5;241m=\u001b[39m version\u001b[38;5;241m.\u001b[39mparse(\u001b[38;5;124m\"\u001b[39m\u001b[38;5;124m115\u001b[39m\u001b[38;5;124m\"\u001b[39m):\n\u001b[0;32m     58\u001b[0m     url \u001b[38;5;241m=\u001b[39m \u001b[38;5;124m\"\u001b[39m\u001b[38;5;124mhttps://googlechromelabs.github.io/chrome-for-testing/latest-patch-versions-per-build.json\u001b[39m\u001b[38;5;124m\"\u001b[39m\n\u001b[1;32m---> 59\u001b[0m     response \u001b[38;5;241m=\u001b[39m \u001b[38;5;28;43mself\u001b[39;49m\u001b[38;5;241;43m.\u001b[39;49m\u001b[43m_http_client\u001b[49m\u001b[38;5;241;43m.\u001b[39;49m\u001b[43mget\u001b[49m\u001b[43m(\u001b[49m\u001b[43murl\u001b[49m\u001b[43m)\u001b[49m\n\u001b[0;32m     60\u001b[0m     response_dict \u001b[38;5;241m=\u001b[39m json\u001b[38;5;241m.\u001b[39mloads(response\u001b[38;5;241m.\u001b[39mtext)\n\u001b[0;32m     61\u001b[0m     determined_browser_version \u001b[38;5;241m=\u001b[39m response_dict\u001b[38;5;241m.\u001b[39mget(\u001b[38;5;124m\"\u001b[39m\u001b[38;5;124mbuilds\u001b[39m\u001b[38;5;124m\"\u001b[39m)\u001b[38;5;241m.\u001b[39mget(determined_browser_version)\u001b[38;5;241m.\u001b[39mget(\u001b[38;5;124m\"\u001b[39m\u001b[38;5;124mversion\u001b[39m\u001b[38;5;124m\"\u001b[39m)\n",
      "File \u001b[1;32mc:\\Users\\YASH\\AppData\\Local\\Programs\\Python\\Python313\\Lib\\site-packages\\webdriver_manager\\core\\http.py:32\u001b[0m, in \u001b[0;36mWDMHttpClient.get\u001b[1;34m(self, url, **kwargs)\u001b[0m\n\u001b[0;32m     30\u001b[0m \u001b[38;5;28;01mdef\u001b[39;00m \u001b[38;5;21mget\u001b[39m(\u001b[38;5;28mself\u001b[39m, url, \u001b[38;5;241m*\u001b[39m\u001b[38;5;241m*\u001b[39mkwargs) \u001b[38;5;241m-\u001b[39m\u001b[38;5;241m>\u001b[39m Response:\n\u001b[0;32m     31\u001b[0m     \u001b[38;5;28;01mtry\u001b[39;00m:\n\u001b[1;32m---> 32\u001b[0m         resp \u001b[38;5;241m=\u001b[39m \u001b[43mrequests\u001b[49m\u001b[38;5;241;43m.\u001b[39;49m\u001b[43mget\u001b[49m\u001b[43m(\u001b[49m\n\u001b[0;32m     33\u001b[0m \u001b[43m            \u001b[49m\u001b[43murl\u001b[49m\u001b[38;5;241;43m=\u001b[39;49m\u001b[43murl\u001b[49m\u001b[43m,\u001b[49m\u001b[43m \u001b[49m\u001b[43mverify\u001b[49m\u001b[38;5;241;43m=\u001b[39;49m\u001b[38;5;28;43mself\u001b[39;49m\u001b[38;5;241;43m.\u001b[39;49m\u001b[43m_ssl_verify\u001b[49m\u001b[43m,\u001b[49m\u001b[43m \u001b[49m\u001b[43mstream\u001b[49m\u001b[38;5;241;43m=\u001b[39;49m\u001b[38;5;28;43;01mTrue\u001b[39;49;00m\u001b[43m,\u001b[49m\u001b[43m \u001b[49m\u001b[38;5;241;43m*\u001b[39;49m\u001b[38;5;241;43m*\u001b[39;49m\u001b[43mkwargs\u001b[49m\u001b[43m)\u001b[49m\n\u001b[0;32m     34\u001b[0m     \u001b[38;5;28;01mexcept\u001b[39;00m exceptions\u001b[38;5;241m.\u001b[39mConnectionError:\n\u001b[0;32m     35\u001b[0m         \u001b[38;5;28;01mraise\u001b[39;00m exceptions\u001b[38;5;241m.\u001b[39mConnectionError(\u001b[38;5;124mf\u001b[39m\u001b[38;5;124m\"\u001b[39m\u001b[38;5;124mCould not reach host. Are you offline?\u001b[39m\u001b[38;5;124m\"\u001b[39m)\n",
      "File \u001b[1;32mc:\\Users\\YASH\\AppData\\Local\\Programs\\Python\\Python313\\Lib\\site-packages\\requests\\api.py:73\u001b[0m, in \u001b[0;36mget\u001b[1;34m(url, params, **kwargs)\u001b[0m\n\u001b[0;32m     62\u001b[0m \u001b[38;5;28;01mdef\u001b[39;00m \u001b[38;5;21mget\u001b[39m(url, params\u001b[38;5;241m=\u001b[39m\u001b[38;5;28;01mNone\u001b[39;00m, \u001b[38;5;241m*\u001b[39m\u001b[38;5;241m*\u001b[39mkwargs):\n\u001b[0;32m     63\u001b[0m \u001b[38;5;250m    \u001b[39m\u001b[38;5;124mr\u001b[39m\u001b[38;5;124;03m\"\"\"Sends a GET request.\u001b[39;00m\n\u001b[0;32m     64\u001b[0m \n\u001b[0;32m     65\u001b[0m \u001b[38;5;124;03m    :param url: URL for the new :class:`Request` object.\u001b[39;00m\n\u001b[1;32m   (...)\u001b[0m\n\u001b[0;32m     70\u001b[0m \u001b[38;5;124;03m    :rtype: requests.Response\u001b[39;00m\n\u001b[0;32m     71\u001b[0m \u001b[38;5;124;03m    \"\"\"\u001b[39;00m\n\u001b[1;32m---> 73\u001b[0m     \u001b[38;5;28;01mreturn\u001b[39;00m \u001b[43mrequest\u001b[49m\u001b[43m(\u001b[49m\u001b[38;5;124;43m\"\u001b[39;49m\u001b[38;5;124;43mget\u001b[39;49m\u001b[38;5;124;43m\"\u001b[39;49m\u001b[43m,\u001b[49m\u001b[43m \u001b[49m\u001b[43murl\u001b[49m\u001b[43m,\u001b[49m\u001b[43m \u001b[49m\u001b[43mparams\u001b[49m\u001b[38;5;241;43m=\u001b[39;49m\u001b[43mparams\u001b[49m\u001b[43m,\u001b[49m\u001b[43m \u001b[49m\u001b[38;5;241;43m*\u001b[39;49m\u001b[38;5;241;43m*\u001b[39;49m\u001b[43mkwargs\u001b[49m\u001b[43m)\u001b[49m\n",
      "File \u001b[1;32mc:\\Users\\YASH\\AppData\\Local\\Programs\\Python\\Python313\\Lib\\site-packages\\requests\\api.py:59\u001b[0m, in \u001b[0;36mrequest\u001b[1;34m(method, url, **kwargs)\u001b[0m\n\u001b[0;32m     55\u001b[0m \u001b[38;5;66;03m# By using the 'with' statement we are sure the session is closed, thus we\u001b[39;00m\n\u001b[0;32m     56\u001b[0m \u001b[38;5;66;03m# avoid leaving sockets open which can trigger a ResourceWarning in some\u001b[39;00m\n\u001b[0;32m     57\u001b[0m \u001b[38;5;66;03m# cases, and look like a memory leak in others.\u001b[39;00m\n\u001b[0;32m     58\u001b[0m \u001b[38;5;28;01mwith\u001b[39;00m sessions\u001b[38;5;241m.\u001b[39mSession() \u001b[38;5;28;01mas\u001b[39;00m session:\n\u001b[1;32m---> 59\u001b[0m     \u001b[38;5;28;01mreturn\u001b[39;00m \u001b[43msession\u001b[49m\u001b[38;5;241;43m.\u001b[39;49m\u001b[43mrequest\u001b[49m\u001b[43m(\u001b[49m\u001b[43mmethod\u001b[49m\u001b[38;5;241;43m=\u001b[39;49m\u001b[43mmethod\u001b[49m\u001b[43m,\u001b[49m\u001b[43m \u001b[49m\u001b[43murl\u001b[49m\u001b[38;5;241;43m=\u001b[39;49m\u001b[43murl\u001b[49m\u001b[43m,\u001b[49m\u001b[43m \u001b[49m\u001b[38;5;241;43m*\u001b[39;49m\u001b[38;5;241;43m*\u001b[39;49m\u001b[43mkwargs\u001b[49m\u001b[43m)\u001b[49m\n",
      "File \u001b[1;32mc:\\Users\\YASH\\AppData\\Local\\Programs\\Python\\Python313\\Lib\\site-packages\\requests\\sessions.py:589\u001b[0m, in \u001b[0;36mSession.request\u001b[1;34m(self, method, url, params, data, headers, cookies, files, auth, timeout, allow_redirects, proxies, hooks, stream, verify, cert, json)\u001b[0m\n\u001b[0;32m    584\u001b[0m send_kwargs \u001b[38;5;241m=\u001b[39m {\n\u001b[0;32m    585\u001b[0m     \u001b[38;5;124m\"\u001b[39m\u001b[38;5;124mtimeout\u001b[39m\u001b[38;5;124m\"\u001b[39m: timeout,\n\u001b[0;32m    586\u001b[0m     \u001b[38;5;124m\"\u001b[39m\u001b[38;5;124mallow_redirects\u001b[39m\u001b[38;5;124m\"\u001b[39m: allow_redirects,\n\u001b[0;32m    587\u001b[0m }\n\u001b[0;32m    588\u001b[0m send_kwargs\u001b[38;5;241m.\u001b[39mupdate(settings)\n\u001b[1;32m--> 589\u001b[0m resp \u001b[38;5;241m=\u001b[39m \u001b[38;5;28;43mself\u001b[39;49m\u001b[38;5;241;43m.\u001b[39;49m\u001b[43msend\u001b[49m\u001b[43m(\u001b[49m\u001b[43mprep\u001b[49m\u001b[43m,\u001b[49m\u001b[43m \u001b[49m\u001b[38;5;241;43m*\u001b[39;49m\u001b[38;5;241;43m*\u001b[39;49m\u001b[43msend_kwargs\u001b[49m\u001b[43m)\u001b[49m\n\u001b[0;32m    591\u001b[0m \u001b[38;5;28;01mreturn\u001b[39;00m resp\n",
      "File \u001b[1;32mc:\\Users\\YASH\\AppData\\Local\\Programs\\Python\\Python313\\Lib\\site-packages\\requests\\sessions.py:703\u001b[0m, in \u001b[0;36mSession.send\u001b[1;34m(self, request, **kwargs)\u001b[0m\n\u001b[0;32m    700\u001b[0m start \u001b[38;5;241m=\u001b[39m preferred_clock()\n\u001b[0;32m    702\u001b[0m \u001b[38;5;66;03m# Send the request\u001b[39;00m\n\u001b[1;32m--> 703\u001b[0m r \u001b[38;5;241m=\u001b[39m \u001b[43madapter\u001b[49m\u001b[38;5;241;43m.\u001b[39;49m\u001b[43msend\u001b[49m\u001b[43m(\u001b[49m\u001b[43mrequest\u001b[49m\u001b[43m,\u001b[49m\u001b[43m \u001b[49m\u001b[38;5;241;43m*\u001b[39;49m\u001b[38;5;241;43m*\u001b[39;49m\u001b[43mkwargs\u001b[49m\u001b[43m)\u001b[49m\n\u001b[0;32m    705\u001b[0m \u001b[38;5;66;03m# Total elapsed time of the request (approximately)\u001b[39;00m\n\u001b[0;32m    706\u001b[0m elapsed \u001b[38;5;241m=\u001b[39m preferred_clock() \u001b[38;5;241m-\u001b[39m start\n",
      "File \u001b[1;32mc:\\Users\\YASH\\AppData\\Local\\Programs\\Python\\Python313\\Lib\\site-packages\\requests\\adapters.py:667\u001b[0m, in \u001b[0;36mHTTPAdapter.send\u001b[1;34m(self, request, stream, timeout, verify, cert, proxies)\u001b[0m\n\u001b[0;32m    664\u001b[0m     timeout \u001b[38;5;241m=\u001b[39m TimeoutSauce(connect\u001b[38;5;241m=\u001b[39mtimeout, read\u001b[38;5;241m=\u001b[39mtimeout)\n\u001b[0;32m    666\u001b[0m \u001b[38;5;28;01mtry\u001b[39;00m:\n\u001b[1;32m--> 667\u001b[0m     resp \u001b[38;5;241m=\u001b[39m \u001b[43mconn\u001b[49m\u001b[38;5;241;43m.\u001b[39;49m\u001b[43murlopen\u001b[49m\u001b[43m(\u001b[49m\n\u001b[0;32m    668\u001b[0m \u001b[43m        \u001b[49m\u001b[43mmethod\u001b[49m\u001b[38;5;241;43m=\u001b[39;49m\u001b[43mrequest\u001b[49m\u001b[38;5;241;43m.\u001b[39;49m\u001b[43mmethod\u001b[49m\u001b[43m,\u001b[49m\n\u001b[0;32m    669\u001b[0m \u001b[43m        \u001b[49m\u001b[43murl\u001b[49m\u001b[38;5;241;43m=\u001b[39;49m\u001b[43murl\u001b[49m\u001b[43m,\u001b[49m\n\u001b[0;32m    670\u001b[0m \u001b[43m        \u001b[49m\u001b[43mbody\u001b[49m\u001b[38;5;241;43m=\u001b[39;49m\u001b[43mrequest\u001b[49m\u001b[38;5;241;43m.\u001b[39;49m\u001b[43mbody\u001b[49m\u001b[43m,\u001b[49m\n\u001b[0;32m    671\u001b[0m \u001b[43m        \u001b[49m\u001b[43mheaders\u001b[49m\u001b[38;5;241;43m=\u001b[39;49m\u001b[43mrequest\u001b[49m\u001b[38;5;241;43m.\u001b[39;49m\u001b[43mheaders\u001b[49m\u001b[43m,\u001b[49m\n\u001b[0;32m    672\u001b[0m \u001b[43m        \u001b[49m\u001b[43mredirect\u001b[49m\u001b[38;5;241;43m=\u001b[39;49m\u001b[38;5;28;43;01mFalse\u001b[39;49;00m\u001b[43m,\u001b[49m\n\u001b[0;32m    673\u001b[0m \u001b[43m        \u001b[49m\u001b[43massert_same_host\u001b[49m\u001b[38;5;241;43m=\u001b[39;49m\u001b[38;5;28;43;01mFalse\u001b[39;49;00m\u001b[43m,\u001b[49m\n\u001b[0;32m    674\u001b[0m \u001b[43m        \u001b[49m\u001b[43mpreload_content\u001b[49m\u001b[38;5;241;43m=\u001b[39;49m\u001b[38;5;28;43;01mFalse\u001b[39;49;00m\u001b[43m,\u001b[49m\n\u001b[0;32m    675\u001b[0m \u001b[43m        \u001b[49m\u001b[43mdecode_content\u001b[49m\u001b[38;5;241;43m=\u001b[39;49m\u001b[38;5;28;43;01mFalse\u001b[39;49;00m\u001b[43m,\u001b[49m\n\u001b[0;32m    676\u001b[0m \u001b[43m        \u001b[49m\u001b[43mretries\u001b[49m\u001b[38;5;241;43m=\u001b[39;49m\u001b[38;5;28;43mself\u001b[39;49m\u001b[38;5;241;43m.\u001b[39;49m\u001b[43mmax_retries\u001b[49m\u001b[43m,\u001b[49m\n\u001b[0;32m    677\u001b[0m \u001b[43m        \u001b[49m\u001b[43mtimeout\u001b[49m\u001b[38;5;241;43m=\u001b[39;49m\u001b[43mtimeout\u001b[49m\u001b[43m,\u001b[49m\n\u001b[0;32m    678\u001b[0m \u001b[43m        \u001b[49m\u001b[43mchunked\u001b[49m\u001b[38;5;241;43m=\u001b[39;49m\u001b[43mchunked\u001b[49m\u001b[43m,\u001b[49m\n\u001b[0;32m    679\u001b[0m \u001b[43m    \u001b[49m\u001b[43m)\u001b[49m\n\u001b[0;32m    681\u001b[0m \u001b[38;5;28;01mexcept\u001b[39;00m (ProtocolError, \u001b[38;5;167;01mOSError\u001b[39;00m) \u001b[38;5;28;01mas\u001b[39;00m err:\n\u001b[0;32m    682\u001b[0m     \u001b[38;5;28;01mraise\u001b[39;00m \u001b[38;5;167;01mConnectionError\u001b[39;00m(err, request\u001b[38;5;241m=\u001b[39mrequest)\n",
      "File \u001b[1;32mc:\\Users\\YASH\\AppData\\Local\\Programs\\Python\\Python313\\Lib\\site-packages\\urllib3\\connectionpool.py:787\u001b[0m, in \u001b[0;36mHTTPConnectionPool.urlopen\u001b[1;34m(self, method, url, body, headers, retries, redirect, assert_same_host, timeout, pool_timeout, release_conn, chunked, body_pos, preload_content, decode_content, **response_kw)\u001b[0m\n\u001b[0;32m    784\u001b[0m response_conn \u001b[38;5;241m=\u001b[39m conn \u001b[38;5;28;01mif\u001b[39;00m \u001b[38;5;129;01mnot\u001b[39;00m release_conn \u001b[38;5;28;01melse\u001b[39;00m \u001b[38;5;28;01mNone\u001b[39;00m\n\u001b[0;32m    786\u001b[0m \u001b[38;5;66;03m# Make the request on the HTTPConnection object\u001b[39;00m\n\u001b[1;32m--> 787\u001b[0m response \u001b[38;5;241m=\u001b[39m \u001b[38;5;28;43mself\u001b[39;49m\u001b[38;5;241;43m.\u001b[39;49m\u001b[43m_make_request\u001b[49m\u001b[43m(\u001b[49m\n\u001b[0;32m    788\u001b[0m \u001b[43m    \u001b[49m\u001b[43mconn\u001b[49m\u001b[43m,\u001b[49m\n\u001b[0;32m    789\u001b[0m \u001b[43m    \u001b[49m\u001b[43mmethod\u001b[49m\u001b[43m,\u001b[49m\n\u001b[0;32m    790\u001b[0m \u001b[43m    \u001b[49m\u001b[43murl\u001b[49m\u001b[43m,\u001b[49m\n\u001b[0;32m    791\u001b[0m \u001b[43m    \u001b[49m\u001b[43mtimeout\u001b[49m\u001b[38;5;241;43m=\u001b[39;49m\u001b[43mtimeout_obj\u001b[49m\u001b[43m,\u001b[49m\n\u001b[0;32m    792\u001b[0m \u001b[43m    \u001b[49m\u001b[43mbody\u001b[49m\u001b[38;5;241;43m=\u001b[39;49m\u001b[43mbody\u001b[49m\u001b[43m,\u001b[49m\n\u001b[0;32m    793\u001b[0m \u001b[43m    \u001b[49m\u001b[43mheaders\u001b[49m\u001b[38;5;241;43m=\u001b[39;49m\u001b[43mheaders\u001b[49m\u001b[43m,\u001b[49m\n\u001b[0;32m    794\u001b[0m \u001b[43m    \u001b[49m\u001b[43mchunked\u001b[49m\u001b[38;5;241;43m=\u001b[39;49m\u001b[43mchunked\u001b[49m\u001b[43m,\u001b[49m\n\u001b[0;32m    795\u001b[0m \u001b[43m    \u001b[49m\u001b[43mretries\u001b[49m\u001b[38;5;241;43m=\u001b[39;49m\u001b[43mretries\u001b[49m\u001b[43m,\u001b[49m\n\u001b[0;32m    796\u001b[0m \u001b[43m    \u001b[49m\u001b[43mresponse_conn\u001b[49m\u001b[38;5;241;43m=\u001b[39;49m\u001b[43mresponse_conn\u001b[49m\u001b[43m,\u001b[49m\n\u001b[0;32m    797\u001b[0m \u001b[43m    \u001b[49m\u001b[43mpreload_content\u001b[49m\u001b[38;5;241;43m=\u001b[39;49m\u001b[43mpreload_content\u001b[49m\u001b[43m,\u001b[49m\n\u001b[0;32m    798\u001b[0m \u001b[43m    \u001b[49m\u001b[43mdecode_content\u001b[49m\u001b[38;5;241;43m=\u001b[39;49m\u001b[43mdecode_content\u001b[49m\u001b[43m,\u001b[49m\n\u001b[0;32m    799\u001b[0m \u001b[43m    \u001b[49m\u001b[38;5;241;43m*\u001b[39;49m\u001b[38;5;241;43m*\u001b[39;49m\u001b[43mresponse_kw\u001b[49m\u001b[43m,\u001b[49m\n\u001b[0;32m    800\u001b[0m \u001b[43m\u001b[49m\u001b[43m)\u001b[49m\n\u001b[0;32m    802\u001b[0m \u001b[38;5;66;03m# Everything went great!\u001b[39;00m\n\u001b[0;32m    803\u001b[0m clean_exit \u001b[38;5;241m=\u001b[39m \u001b[38;5;28;01mTrue\u001b[39;00m\n",
      "File \u001b[1;32mc:\\Users\\YASH\\AppData\\Local\\Programs\\Python\\Python313\\Lib\\site-packages\\urllib3\\connectionpool.py:534\u001b[0m, in \u001b[0;36mHTTPConnectionPool._make_request\u001b[1;34m(self, conn, method, url, body, headers, retries, timeout, chunked, response_conn, preload_content, decode_content, enforce_content_length)\u001b[0m\n\u001b[0;32m    532\u001b[0m \u001b[38;5;66;03m# Receive the response from the server\u001b[39;00m\n\u001b[0;32m    533\u001b[0m \u001b[38;5;28;01mtry\u001b[39;00m:\n\u001b[1;32m--> 534\u001b[0m     response \u001b[38;5;241m=\u001b[39m \u001b[43mconn\u001b[49m\u001b[38;5;241;43m.\u001b[39;49m\u001b[43mgetresponse\u001b[49m\u001b[43m(\u001b[49m\u001b[43m)\u001b[49m\n\u001b[0;32m    535\u001b[0m \u001b[38;5;28;01mexcept\u001b[39;00m (BaseSSLError, \u001b[38;5;167;01mOSError\u001b[39;00m) \u001b[38;5;28;01mas\u001b[39;00m e:\n\u001b[0;32m    536\u001b[0m     \u001b[38;5;28mself\u001b[39m\u001b[38;5;241m.\u001b[39m_raise_timeout(err\u001b[38;5;241m=\u001b[39me, url\u001b[38;5;241m=\u001b[39murl, timeout_value\u001b[38;5;241m=\u001b[39mread_timeout)\n",
      "File \u001b[1;32mc:\\Users\\YASH\\AppData\\Local\\Programs\\Python\\Python313\\Lib\\site-packages\\urllib3\\connection.py:516\u001b[0m, in \u001b[0;36mHTTPConnection.getresponse\u001b[1;34m(self)\u001b[0m\n\u001b[0;32m    513\u001b[0m _shutdown \u001b[38;5;241m=\u001b[39m \u001b[38;5;28mgetattr\u001b[39m(\u001b[38;5;28mself\u001b[39m\u001b[38;5;241m.\u001b[39msock, \u001b[38;5;124m\"\u001b[39m\u001b[38;5;124mshutdown\u001b[39m\u001b[38;5;124m\"\u001b[39m, \u001b[38;5;28;01mNone\u001b[39;00m)\n\u001b[0;32m    515\u001b[0m \u001b[38;5;66;03m# Get the response from http.client.HTTPConnection\u001b[39;00m\n\u001b[1;32m--> 516\u001b[0m httplib_response \u001b[38;5;241m=\u001b[39m \u001b[38;5;28;43msuper\u001b[39;49m\u001b[43m(\u001b[49m\u001b[43m)\u001b[49m\u001b[38;5;241;43m.\u001b[39;49m\u001b[43mgetresponse\u001b[49m\u001b[43m(\u001b[49m\u001b[43m)\u001b[49m\n\u001b[0;32m    518\u001b[0m \u001b[38;5;28;01mtry\u001b[39;00m:\n\u001b[0;32m    519\u001b[0m     assert_header_parsing(httplib_response\u001b[38;5;241m.\u001b[39mmsg)\n",
      "File \u001b[1;32mc:\\Users\\YASH\\AppData\\Local\\Programs\\Python\\Python313\\Lib\\http\\client.py:1428\u001b[0m, in \u001b[0;36mHTTPConnection.getresponse\u001b[1;34m(self)\u001b[0m\n\u001b[0;32m   1426\u001b[0m \u001b[38;5;28;01mtry\u001b[39;00m:\n\u001b[0;32m   1427\u001b[0m     \u001b[38;5;28;01mtry\u001b[39;00m:\n\u001b[1;32m-> 1428\u001b[0m         \u001b[43mresponse\u001b[49m\u001b[38;5;241;43m.\u001b[39;49m\u001b[43mbegin\u001b[49m\u001b[43m(\u001b[49m\u001b[43m)\u001b[49m\n\u001b[0;32m   1429\u001b[0m     \u001b[38;5;28;01mexcept\u001b[39;00m \u001b[38;5;167;01mConnectionError\u001b[39;00m:\n\u001b[0;32m   1430\u001b[0m         \u001b[38;5;28mself\u001b[39m\u001b[38;5;241m.\u001b[39mclose()\n",
      "File \u001b[1;32mc:\\Users\\YASH\\AppData\\Local\\Programs\\Python\\Python313\\Lib\\http\\client.py:331\u001b[0m, in \u001b[0;36mHTTPResponse.begin\u001b[1;34m(self)\u001b[0m\n\u001b[0;32m    329\u001b[0m \u001b[38;5;66;03m# read until we get a non-100 response\u001b[39;00m\n\u001b[0;32m    330\u001b[0m \u001b[38;5;28;01mwhile\u001b[39;00m \u001b[38;5;28;01mTrue\u001b[39;00m:\n\u001b[1;32m--> 331\u001b[0m     version, status, reason \u001b[38;5;241m=\u001b[39m \u001b[38;5;28;43mself\u001b[39;49m\u001b[38;5;241;43m.\u001b[39;49m\u001b[43m_read_status\u001b[49m\u001b[43m(\u001b[49m\u001b[43m)\u001b[49m\n\u001b[0;32m    332\u001b[0m     \u001b[38;5;28;01mif\u001b[39;00m status \u001b[38;5;241m!=\u001b[39m CONTINUE:\n\u001b[0;32m    333\u001b[0m         \u001b[38;5;28;01mbreak\u001b[39;00m\n",
      "File \u001b[1;32mc:\\Users\\YASH\\AppData\\Local\\Programs\\Python\\Python313\\Lib\\http\\client.py:292\u001b[0m, in \u001b[0;36mHTTPResponse._read_status\u001b[1;34m(self)\u001b[0m\n\u001b[0;32m    291\u001b[0m \u001b[38;5;28;01mdef\u001b[39;00m \u001b[38;5;21m_read_status\u001b[39m(\u001b[38;5;28mself\u001b[39m):\n\u001b[1;32m--> 292\u001b[0m     line \u001b[38;5;241m=\u001b[39m \u001b[38;5;28mstr\u001b[39m(\u001b[38;5;28;43mself\u001b[39;49m\u001b[38;5;241;43m.\u001b[39;49m\u001b[43mfp\u001b[49m\u001b[38;5;241;43m.\u001b[39;49m\u001b[43mreadline\u001b[49m\u001b[43m(\u001b[49m\u001b[43m_MAXLINE\u001b[49m\u001b[43m \u001b[49m\u001b[38;5;241;43m+\u001b[39;49m\u001b[43m \u001b[49m\u001b[38;5;241;43m1\u001b[39;49m\u001b[43m)\u001b[49m, \u001b[38;5;124m\"\u001b[39m\u001b[38;5;124miso-8859-1\u001b[39m\u001b[38;5;124m\"\u001b[39m)\n\u001b[0;32m    293\u001b[0m     \u001b[38;5;28;01mif\u001b[39;00m \u001b[38;5;28mlen\u001b[39m(line) \u001b[38;5;241m>\u001b[39m _MAXLINE:\n\u001b[0;32m    294\u001b[0m         \u001b[38;5;28;01mraise\u001b[39;00m LineTooLong(\u001b[38;5;124m\"\u001b[39m\u001b[38;5;124mstatus line\u001b[39m\u001b[38;5;124m\"\u001b[39m)\n",
      "File \u001b[1;32mc:\\Users\\YASH\\AppData\\Local\\Programs\\Python\\Python313\\Lib\\socket.py:719\u001b[0m, in \u001b[0;36mSocketIO.readinto\u001b[1;34m(self, b)\u001b[0m\n\u001b[0;32m    717\u001b[0m     \u001b[38;5;28;01mraise\u001b[39;00m \u001b[38;5;167;01mOSError\u001b[39;00m(\u001b[38;5;124m\"\u001b[39m\u001b[38;5;124mcannot read from timed out object\u001b[39m\u001b[38;5;124m\"\u001b[39m)\n\u001b[0;32m    718\u001b[0m \u001b[38;5;28;01mtry\u001b[39;00m:\n\u001b[1;32m--> 719\u001b[0m     \u001b[38;5;28;01mreturn\u001b[39;00m \u001b[38;5;28;43mself\u001b[39;49m\u001b[38;5;241;43m.\u001b[39;49m\u001b[43m_sock\u001b[49m\u001b[38;5;241;43m.\u001b[39;49m\u001b[43mrecv_into\u001b[49m\u001b[43m(\u001b[49m\u001b[43mb\u001b[49m\u001b[43m)\u001b[49m\n\u001b[0;32m    720\u001b[0m \u001b[38;5;28;01mexcept\u001b[39;00m timeout:\n\u001b[0;32m    721\u001b[0m     \u001b[38;5;28mself\u001b[39m\u001b[38;5;241m.\u001b[39m_timeout_occurred \u001b[38;5;241m=\u001b[39m \u001b[38;5;28;01mTrue\u001b[39;00m\n",
      "File \u001b[1;32mc:\\Users\\YASH\\AppData\\Local\\Programs\\Python\\Python313\\Lib\\ssl.py:1304\u001b[0m, in \u001b[0;36mSSLSocket.recv_into\u001b[1;34m(self, buffer, nbytes, flags)\u001b[0m\n\u001b[0;32m   1300\u001b[0m     \u001b[38;5;28;01mif\u001b[39;00m flags \u001b[38;5;241m!=\u001b[39m \u001b[38;5;241m0\u001b[39m:\n\u001b[0;32m   1301\u001b[0m         \u001b[38;5;28;01mraise\u001b[39;00m \u001b[38;5;167;01mValueError\u001b[39;00m(\n\u001b[0;32m   1302\u001b[0m           \u001b[38;5;124m\"\u001b[39m\u001b[38;5;124mnon-zero flags not allowed in calls to recv_into() on \u001b[39m\u001b[38;5;132;01m%s\u001b[39;00m\u001b[38;5;124m\"\u001b[39m \u001b[38;5;241m%\u001b[39m\n\u001b[0;32m   1303\u001b[0m           \u001b[38;5;28mself\u001b[39m\u001b[38;5;241m.\u001b[39m\u001b[38;5;18m__class__\u001b[39m)\n\u001b[1;32m-> 1304\u001b[0m     \u001b[38;5;28;01mreturn\u001b[39;00m \u001b[38;5;28;43mself\u001b[39;49m\u001b[38;5;241;43m.\u001b[39;49m\u001b[43mread\u001b[49m\u001b[43m(\u001b[49m\u001b[43mnbytes\u001b[49m\u001b[43m,\u001b[49m\u001b[43m \u001b[49m\u001b[43mbuffer\u001b[49m\u001b[43m)\u001b[49m\n\u001b[0;32m   1305\u001b[0m \u001b[38;5;28;01melse\u001b[39;00m:\n\u001b[0;32m   1306\u001b[0m     \u001b[38;5;28;01mreturn\u001b[39;00m \u001b[38;5;28msuper\u001b[39m()\u001b[38;5;241m.\u001b[39mrecv_into(buffer, nbytes, flags)\n",
      "File \u001b[1;32mc:\\Users\\YASH\\AppData\\Local\\Programs\\Python\\Python313\\Lib\\ssl.py:1138\u001b[0m, in \u001b[0;36mSSLSocket.read\u001b[1;34m(self, len, buffer)\u001b[0m\n\u001b[0;32m   1136\u001b[0m \u001b[38;5;28;01mtry\u001b[39;00m:\n\u001b[0;32m   1137\u001b[0m     \u001b[38;5;28;01mif\u001b[39;00m buffer \u001b[38;5;129;01mis\u001b[39;00m \u001b[38;5;129;01mnot\u001b[39;00m \u001b[38;5;28;01mNone\u001b[39;00m:\n\u001b[1;32m-> 1138\u001b[0m         \u001b[38;5;28;01mreturn\u001b[39;00m \u001b[38;5;28;43mself\u001b[39;49m\u001b[38;5;241;43m.\u001b[39;49m\u001b[43m_sslobj\u001b[49m\u001b[38;5;241;43m.\u001b[39;49m\u001b[43mread\u001b[49m\u001b[43m(\u001b[49m\u001b[38;5;28;43mlen\u001b[39;49m\u001b[43m,\u001b[49m\u001b[43m \u001b[49m\u001b[43mbuffer\u001b[49m\u001b[43m)\u001b[49m\n\u001b[0;32m   1139\u001b[0m     \u001b[38;5;28;01melse\u001b[39;00m:\n\u001b[0;32m   1140\u001b[0m         \u001b[38;5;28;01mreturn\u001b[39;00m \u001b[38;5;28mself\u001b[39m\u001b[38;5;241m.\u001b[39m_sslobj\u001b[38;5;241m.\u001b[39mread(\u001b[38;5;28mlen\u001b[39m)\n",
      "\u001b[1;31mKeyboardInterrupt\u001b[0m: "
     ]
    }
   ],
   "source": [
    "ground_url = 'https://www.espncricinfo.com/cricket-grounds/rangiri-dambulla-international-stadium-59368'\n",
    "\n",
    "# Set up the WebDriver for scraping ground info\n",
    "options = webdriver.ChromeOptions()\n",
    "options.add_argument(\"--headless\")\n",
    "driver = webdriver.Chrome(service=Service(ChromeDriverManager().install()), options=options)\n",
    "    \n",
    "driver.get(ground_url)\n",
    "    \n",
    "try:\n",
    "    # 1. Ground ID (numeric portion of the URL)\n",
    "    ground_id = ground_url.split('/')[-1].split('.')[0]\n",
    "        \n",
    "    # 2. Ground image URL\n",
    "    img_element = driver.find_element(By.XPATH, \"//div[@class='ds-p-0']//img\")\n",
    "    image_url = img_element.get_attribute(\"src\")\n",
    "        \n",
    "        # 3. Stadium Name\n",
    "    stadium_name = driver.find_element(By.XPATH, \"//span[contains(@class, 'ds-text-title-m') and contains(@class, 'ds-font-bold')]\").text\n",
    "        \n",
    "    # 4. Location (City)\n",
    "    location = driver.find_element(By.XPATH, \"//span[contains(@class, 'ds-text-compact-s') and contains(@class, 'ds-font-bold')]\").text.strip().replace(\"\\n\", \", \")\n",
    "        \n",
    "    # 5. Home Team (Country)\n",
    "    home_team_text = driver.find_element(By.XPATH, \"//span[contains(text(), 'Grounds in')]\").text\n",
    "    home_team = home_team_text.split(\"Grounds in\")[-1].strip()\n",
    "        \n",
    "    # Prepare the ground info as a dictionary\n",
    "    ground_info = pd.DataFrame({\n",
    "            \"Ground ID\": [ground_id],\n",
    "            \"Stadium Name\": [stadium_name],\n",
    "            \"Location\": [location],\n",
    "            \"Home Team\": [home_team],\n",
    "            \"Image URL\": [image_url]\n",
    "        })\n",
    "\n",
    "except Exception as e : print(e)\n",
    "    \n",
    "ground_info"
   ]
  },
  {
   "cell_type": "code",
   "execution_count": null,
   "metadata": {},
   "outputs": [],
   "source": [
    "player_id = 253802\n",
    "grounds = extract_ground_links(player_id)\n",
    "\n",
    "grounds"
   ]
  },
  {
   "cell_type": "markdown",
   "metadata": {},
   "source": [
    "## Transformation"
   ]
  },
  {
   "cell_type": "code",
   "execution_count": 2,
   "metadata": {},
   "outputs": [],
   "source": [
    "import time\n",
    "import pandas as pd\n",
    "import numpy as np\n",
    "\n",
    "class Cricketer_Stats_Transformer:\n",
    "    \n",
    "    def __init__(self, player_name):\n",
    "        self.player_name = player_name\n",
    "        self.player_info = None\n",
    "        self.battingstats = None\n",
    "        self.bowlingstats = None\n",
    "        self.allroundstats = None\n",
    "        self.fieldingstats = None\n",
    "        self.player_id = None\n",
    "        self.player_url = None\n",
    "\n",
    "    #transforming data\n",
    "\n",
    "    def transform_data(self,df):\n",
    "        \n",
    "        #STEP 1: Replacing incorrect values. \n",
    "        repl_dict = {\n",
    "            r'\\*': '',       \n",
    "            r'^DNB$': np.nan,  \n",
    "            r'^TDNB$': np.nan, \n",
    "            r'^DNF$': np.nan,  \n",
    "            r'^TDNF$': np.nan, \n",
    "            r'^-$': np.nan,    \n",
    "            r'^sub$': np.nan   \n",
    "                    }\n",
    "\n",
    "        df = df.replace(repl_dict,regex=True)\n",
    "\n",
    "        #STEP 2: Opposition column\n",
    "        df['Format'] = df['Opposition'].str.extract(r'(^.*?)\\sv\\s')\n",
    "        df['Opposition'] = df['Opposition'].str.extract(r'\\sv\\s(.*?$)')\n",
    "\n",
    "        #STEP 3: Ground column\n",
    "        ground_mapping = {\n",
    "        \"Colombo (SSC)\": \"Colombo\",\n",
    "        \"Colombo (PSS)\": \"Colombo\",\n",
    "        \"Colombo (RPS)\": \"Colombo\",\n",
    "        \"Eden Gardens\": \"Kolkata\",\n",
    "        \"Wankhede\": \"Mumbai\",\n",
    "        \"Brabourne\": \"Mumbai\",\n",
    "        \"Kingston\": \"Kingston Jamaica\",\n",
    "        \"The Oval\": \"London\",\n",
    "        \"Lord's\": \"London\",\n",
    "        \"W.A.C.A\": \"Perth\",\n",
    "        \"Dharamsala\": \"Dharamshala\",\n",
    "        \"Hamilton\": \"Hamilton Waikato\",\n",
    "        \"Fatullah\": \"Fatullah Dhaka\",\n",
    "        \"Providence\": \"Providence Guyana\",\n",
    "        \"Dubai (DICS)\": \"Dubai\",\n",
    "        \"Chattogram\": \"Chattogram Chittagong\"\n",
    "        }\n",
    "\n",
    "        df['Ground']=df['Ground'].replace(ground_mapping)\n",
    "        df = df.rename(columns={'Ground':'Location'})\n",
    "\n",
    "        #STEP 4: START DATE\n",
    "        df['Start Date'] = df['Start Date'].astype('datetime64[ns]')\n",
    "\n",
    "        #STEP 5: MATCH ID\n",
    "        df['Match id']='#'+df['Match id'].str.extract(r'(\\d+$)')\n",
    "        df = df.rename(columns={'Match id':'Match ID'})\n",
    "\n",
    "        return df\n",
    "    \n",
    "    def final_df(self, df, common_cols, custom_cols):\n",
    "\n",
    "        dtype_mapping = {\n",
    "\n",
    "                # Common Columns\n",
    "                'Match ID': 'string',\n",
    "                'Start Date': 'datetime64[ns]',\n",
    "                'Format': 'string',\n",
    "                'Inns': 'Int64',  # Allows NaN handling\n",
    "                'Opposition': 'string',\n",
    "                'Location': 'string',\n",
    "                \n",
    "                # Batting Columns\n",
    "                'Pos': 'Int64',\n",
    "                'Runs': 'Int64',\n",
    "                'BF': 'Int64',\n",
    "                '4s': 'Int64',\n",
    "                '6s': 'Int64',\n",
    "                'SR': 'float64',\n",
    "                'Mins': 'Int64',\n",
    "                'Dismissal': 'string',\n",
    "\n",
    "                # Bowling Columns\n",
    "                'Overs': 'float64',\n",
    "                'Mdns': 'Int64',\n",
    "                'Runs': 'Int64',\n",
    "                'Wkts': 'Int64',\n",
    "                'Econ': 'float64',\n",
    "\n",
    "                # Fielding Columns\n",
    "                'Dis': 'Int64',\n",
    "                'Ct': 'Int64',\n",
    "\n",
    "                # Allround Columns\n",
    "                'Score': 'string',  # Could be runs or DNB, TDNB\n",
    "                'Conc': 'Int64',\n",
    "                'St': 'Int64'\n",
    "            }\n",
    "\n",
    "        if df is not None:\n",
    "            df = self.transform_data(df)\n",
    "\n",
    "            # Select the necessary columns\n",
    "            df = df[common_cols[:-2] + custom_cols + common_cols[-2:]]\n",
    "\n",
    "            # Apply type casting\n",
    "            for col in df.columns:\n",
    "                if col in dtype_mapping:\n",
    "                    try:\n",
    "                        df[col] = df[col].astype(dtype_mapping[col])\n",
    "                    except Exception as e:\n",
    "                        print(f\"Data type casting failed for column {col}: {e}\")\n",
    "\n",
    "            return df\n",
    "\n",
    "\n",
    "    def process_data(self,type=\"all\"):\n",
    "\n",
    "        common = ['Match ID','Start Date','Format','Inns','Opposition','Location']\n",
    "        batcols = ['Pos','Runs','BF','4s','6s','SR','Mins','Dismissal']\n",
    "        bowlcols = ['Pos','Overs','Mdns','Runs','Wkts','Econ']\n",
    "        fieldcols = ['Dis','Ct']\n",
    "        allroundcols = ['Score','Overs','Conc','Wkts','Ct','St']\n",
    "\n",
    "        try:\n",
    "        \n",
    "            # Process batting stats\n",
    "            if type == 'all' or type == 'batting':\n",
    "                print(f\"Processing {self.player_name}'s batting stats...\")\n",
    "                self.battingstats = self.final_df(self.battingstats, common, batcols)\n",
    "                print(f\"Batting stats processed successfully.\")\n",
    "\n",
    "            # Process bowling stats\n",
    "            if type == 'all' or type == 'bowling':\n",
    "                print(f\"Processing {self.player_name}'s bowling stats...\")\n",
    "                self.bowlingstats = self.final_df(self.bowlingstats, common, bowlcols)\n",
    "                print(f\"Bowling stats processed successfully.\")\n",
    "\n",
    "            # Process fielding stats\n",
    "            if type == 'all' or type == 'fielding':\n",
    "                print(f\"Processing {self.player_name}'s fielding stats...\")\n",
    "                self.fieldingstats = self.final_df(self.fieldingstats, common, fieldcols)\n",
    "                print(f\"Fielding stats processed successfully.\")\n",
    "\n",
    "            # Process allround stats\n",
    "            if type == 'all' or type == 'allround':\n",
    "                if self.player_info is not None and 'allround' in self.player_info['PLAYING ROLE'][0].lower():\n",
    "                    print(f\"Processing {self.player_name}'s all-round stats...\")\n",
    "                    self.allroundstats = self.final_df(self.allroundstats, common, allroundcols)\n",
    "                    print(f\"All-round stats processed successfully.\")\n",
    "\n",
    "           \n",
    "        except Exception as e:\n",
    "            print(f\"Error in processing data for {self.player_name}: \", e)"
   ]
  },
  {
   "cell_type": "markdown",
   "metadata": {},
   "source": [
    "## Loader"
   ]
  },
  {
   "cell_type": "code",
   "execution_count": 3,
   "metadata": {},
   "outputs": [],
   "source": [
    "import pandas as pd\n",
    "from google.cloud import storage\n",
    "from io import BytesIO\n",
    "\n",
    "class CricketerStatsLoader:\n",
    "    def __init__(self, player_name, data_type=\"raw\"):\n",
    "        self.player_name = player_name.lower().replace(\" \", \"_\")\n",
    "        self.data_type = data_type  # 'raw' or 'tf'\n",
    "        self.battingstats = None\n",
    "        self.bowlingstats = None\n",
    "        self.fieldingstats = None\n",
    "        self.allroundstats = None\n",
    "        self.player_info = None\n",
    "\n",
    "    def ensure_bucket_exists(self, bucket_name):\n",
    "        \"\"\"Checks if the bucket exists; if not, creates it.\"\"\"\n",
    "        client = storage.Client()\n",
    "        bucket = client.lookup_bucket(bucket_name)\n",
    "\n",
    "        if not bucket:\n",
    "            print(f\"Bucket '{bucket_name}' does not exist. Creating it...\")\n",
    "            bucket = client.create_bucket(bucket_name)\n",
    "            print(f\"Bucket '{bucket_name}' created successfully.\")\n",
    "        else:\n",
    "            print(f\"Bucket '{bucket_name}' already exists.\")\n",
    "\n",
    "    def upload_df_to_gcs(self, bucket_name, destination_blob_name, df):\n",
    "        \"\"\"Uploads a Pandas DataFrame as a CSV file to Google Cloud Storage.\"\"\"\n",
    "        if df is None or df.empty:\n",
    "            print(f\"Warning: {destination_blob_name} is empty, skipping upload.\")\n",
    "            return\n",
    "\n",
    "        client = storage.Client()\n",
    "        bucket = client.bucket(bucket_name)\n",
    "        blob = bucket.blob(destination_blob_name)\n",
    "\n",
    "        # Convert DataFrame to CSV in memory (Binary Buffer)\n",
    "        buffer = BytesIO()\n",
    "        df.to_csv(buffer, index=False)\n",
    "        buffer.seek(0)  # Reset buffer position\n",
    "\n",
    "        # Upload directly from memory\n",
    "        blob.upload_from_file(buffer, content_type=\"text/csv\")\n",
    "        print(f\"File uploaded to GCS: gs://{bucket_name}/{destination_blob_name}\")\n",
    "\n",
    "    def download_df_from_gcs(self, bucket_name, stat_type):\n",
    "        \"\"\"Downloads a specific type of cricket stats from GCS into a Pandas DataFrame.\n",
    "    \n",
    "        Args:\n",
    "            bucket_name (str): Google Cloud Storage bucket name.\n",
    "            stat_type (str): Type of data to fetch (e.g., \"batting\", \"bowling\", \"fielding\", \"allround\", \"personal_info\").\n",
    "    \n",
    "        Returns:\n",
    "            pd.DataFrame: The downloaded DataFrame, or None if the file is missing.\n",
    "        \"\"\"\n",
    "        # Construct the full GCS path based on the player name, data type, and stat type\n",
    "        file_name_map = {\n",
    "            \"batting\": \"batting_stats.csv\",\n",
    "            \"bowling\": \"bowling_stats.csv\",\n",
    "            \"fielding\": \"fielding_stats.csv\",\n",
    "            \"allround\": \"allround_stats.csv\",\n",
    "            \"personal_info\": \"personal_info.csv\"\n",
    "                        }\n",
    "\n",
    "        if stat_type not in file_name_map:\n",
    "            print(f\"Error: Invalid stat_type '{stat_type}'. Choose from {list(file_name_map.keys())}.\")\n",
    "            return None\n",
    "\n",
    "        # Define the GCS blob name based on the structure\n",
    "        source_blob_name = f\"{self.player_name}/{self.data_type}/{file_name_map[stat_type]}\"\n",
    "\n",
    "        # Initialize GCS client and fetch the file\n",
    "        client = storage.Client()\n",
    "        bucket = client.bucket(bucket_name)\n",
    "        blob = bucket.blob(source_blob_name)\n",
    "\n",
    "        try:\n",
    "            csv_data = blob.download_as_text()\n",
    "            df = pd.read_csv(BytesIO(csv_data.encode()))\n",
    "            print(f\"Successfully downloaded {stat_type} data from gs://{bucket_name}/{source_blob_name}\")\n",
    "            return df\n",
    "        except Exception as e:\n",
    "            print(f\"Error downloading {stat_type} stats: {e}\")\n",
    "            return None\n",
    "\n",
    "\n",
    "    def load_data(self, bucket_name):\n",
    "        \"\"\"\n",
    "        Uploads data to GCS in a structured format.\n",
    "        - bucket_name: Name of the GCS bucket.\n",
    "        \"\"\"\n",
    "        print(f\"Uploading {self.player_name}'s {self.data_type} data to GCS...\")\n",
    "\n",
    "        # Ensure bucket exists before uploading\n",
    "        self.ensure_bucket_exists(bucket_name)\n",
    "\n",
    "        # Define the base folder (`player_name/raw/` or `player_name/tf/`)\n",
    "        base_folder = f\"{self.player_name}/{self.data_type}/\"\n",
    "\n",
    "        if self.battingstats is not None:\n",
    "            self.upload_df_to_gcs(bucket_name, base_folder + \"batting_stats.csv\", self.battingstats)\n",
    "\n",
    "        if self.bowlingstats is not None:\n",
    "            self.upload_df_to_gcs(bucket_name, base_folder + \"bowling_stats.csv\", self.bowlingstats)\n",
    "\n",
    "        if self.fieldingstats is not None:\n",
    "            self.upload_df_to_gcs(bucket_name, base_folder + \"fielding_stats.csv\", self.fieldingstats)\n",
    "\n",
    "        if self.allroundstats is not None:\n",
    "            self.upload_df_to_gcs(bucket_name, base_folder + \"allround_stats.csv\", self.allroundstats)\n",
    "\n",
    "        if self.player_info is not None:\n",
    "            self.upload_df_to_gcs(bucket_name, base_folder + \"personal_info.csv\", self.player_info)\n",
    "\n",
    "        print(f\"All {self.data_type} data successfully uploaded to GCS in gs://{bucket_name}/{base_folder}\")"
   ]
  },
  {
   "cell_type": "markdown",
   "metadata": {},
   "source": [
    "## testing code"
   ]
  },
  {
   "cell_type": "code",
   "execution_count": 4,
   "metadata": {},
   "outputs": [],
   "source": [
    "import warnings as warn\n",
    "\n",
    "warn.filterwarnings(\"ignore\")"
   ]
  },
  {
   "cell_type": "markdown",
   "metadata": {},
   "source": [
    "### virat kohli"
   ]
  },
  {
   "cell_type": "code",
   "execution_count": 5,
   "metadata": {},
   "outputs": [
    {
     "name": "stdout",
     "output_type": "stream",
     "text": [
      "Setting up WebDriver...\n",
      "Extracting Virat Kohli's player URL and Player ID....\n",
      "Extraction Successful for Virat Kohli.\n",
      "Time taken to extract URL: 4.35 seconds\n",
      "Starting extraction of Virat Kohli's batting stats....\n",
      "Extracted 646 records in 194.77 seconds\n",
      "Starting extraction of Virat Kohli's bowling stats....\n",
      "Extracted 663 records in 165.35 seconds\n",
      "Starting extraction of Virat Kohli's personal info....\n",
      "Extracted player info in 5.20 seconds\n",
      "Starting extraction of Virat Kohli's fielding stats....\n",
      "Extracted 663 records in 90.04 seconds\n",
      "Uploading virat_kohli's raw data to GCS...\n",
      "Bucket 'cricketer_stats' already exists.\n",
      "File uploaded to GCS: gs://cricketer_stats/virat_kohli/raw/batting_stats.csv\n",
      "File uploaded to GCS: gs://cricketer_stats/virat_kohli/raw/bowling_stats.csv\n",
      "File uploaded to GCS: gs://cricketer_stats/virat_kohli/raw/fielding_stats.csv\n",
      "File uploaded to GCS: gs://cricketer_stats/virat_kohli/raw/personal_info.csv\n",
      "All raw data successfully uploaded to GCS in gs://cricketer_stats/virat_kohli/raw/\n"
     ]
    }
   ],
   "source": [
    "#scraping data\n",
    "player_name = \"Virat Kohli\"\n",
    "virat_raw = Cricketer_Stats_Scraper(player_name)\n",
    "virat_raw.get_player_stats()\n",
    "\n",
    "#saving raw data to bucket\n",
    "bucket_name = \"cricketer_stats\"\n",
    "\n",
    "virat_raw_loader = CricketerStatsLoader(player_name)\n",
    "virat_raw_loader.battingstats = virat_raw.battingstats\n",
    "virat_raw_loader.bowlingstats = virat_raw.bowlingstats\n",
    "virat_raw_loader.fieldingstats = virat_raw.fieldingstats\n",
    "virat_raw_loader.player_info = virat_raw.player_info\n",
    "\n",
    "virat_raw_loader.load_data(bucket_name)\n"
   ]
  },
  {
   "cell_type": "code",
   "execution_count": 6,
   "metadata": {},
   "outputs": [
    {
     "name": "stdout",
     "output_type": "stream",
     "text": [
      "Successfully downloaded batting data from gs://cricketer_stats/virat_kohli/raw/batting_stats.csv\n",
      "Successfully downloaded bowling data from gs://cricketer_stats/virat_kohli/raw/bowling_stats.csv\n",
      "Successfully downloaded fielding data from gs://cricketer_stats/virat_kohli/raw/fielding_stats.csv\n",
      "Error downloading allround stats: 404 GET https://storage.googleapis.com/download/storage/v1/b/cricketer_stats/o/virat_kohli%2Fraw%2Fallround_stats.csv?alt=media: No such object: cricketer_stats/virat_kohli/raw/allround_stats.csv: ('Request failed with status code', 404, 'Expected one of', <HTTPStatus.OK: 200>, <HTTPStatus.PARTIAL_CONTENT: 206>)\n",
      "Successfully downloaded personal_info data from gs://cricketer_stats/virat_kohli/raw/personal_info.csv\n",
      "Processing Virat Kohli's batting stats...\n",
      "Batting stats processed successfully.\n",
      "Processing Virat Kohli's bowling stats...\n",
      "Bowling stats processed successfully.\n",
      "Processing Virat Kohli's fielding stats...\n",
      "Fielding stats processed successfully.\n",
      "Uploading virat_kohli's tf data to GCS...\n",
      "Bucket 'cricketer_stats' already exists.\n",
      "File uploaded to GCS: gs://cricketer_stats/virat_kohli/tf/batting_stats.csv\n",
      "File uploaded to GCS: gs://cricketer_stats/virat_kohli/tf/bowling_stats.csv\n",
      "File uploaded to GCS: gs://cricketer_stats/virat_kohli/tf/fielding_stats.csv\n",
      "File uploaded to GCS: gs://cricketer_stats/virat_kohli/tf/personal_info.csv\n",
      "All tf data successfully uploaded to GCS in gs://cricketer_stats/virat_kohli/tf/\n"
     ]
    }
   ],
   "source": [
    "#downloading raw data from bucket and assigning to transformer object\n",
    "player_name = \"Virat Kohli\"\n",
    "bucket_name = \"cricketer_stats\"\n",
    "\n",
    "virat_raw_downloader = CricketerStatsLoader(player_name, data_type=\"raw\")\n",
    "virat_tf = Cricketer_Stats_Transformer(player_name)\n",
    "\n",
    "virat_tf.battingstats = virat_raw_downloader.download_df_from_gcs(bucket_name, \"batting\")\n",
    "virat_tf.bowlingstats = virat_raw_downloader.download_df_from_gcs(bucket_name, \"bowling\")\n",
    "virat_tf.fieldingstats = virat_raw_downloader.download_df_from_gcs(bucket_name, \"fielding\")\n",
    "virat_tf.allroundstats = virat_raw_downloader.download_df_from_gcs(bucket_name, \"allround\")\n",
    "virat_tf.player_info = virat_raw_downloader.download_df_from_gcs(bucket_name, \"personal_info\")\n",
    "\n",
    "#transforming data\n",
    "virat_tf.process_data()\n",
    "\n",
    "#saving transformed data to bucket\n",
    "virat_tf_loader = CricketerStatsLoader(player_name, data_type=\"tf\")\n",
    "\n",
    "virat_tf_loader.battingstats = virat_tf.battingstats\n",
    "virat_tf_loader.bowlingstats = virat_tf.bowlingstats\n",
    "virat_tf_loader.fieldingstats = virat_tf.fieldingstats\n",
    "virat_tf_loader.allroundstats = virat_tf.allroundstats\n",
    "virat_tf_loader.player_info = virat_tf.player_info\n",
    "\n",
    "virat_tf_loader.load_data(bucket_name)"
   ]
  },
  {
   "cell_type": "code",
   "execution_count": 7,
   "metadata": {},
   "outputs": [
    {
     "data": {
      "text/plain": [
       "Match ID      string[python]\n",
       "Start Date    datetime64[ns]\n",
       "Format        string[python]\n",
       "Inns                   Int64\n",
       "Pos                    Int64\n",
       "Runs                   Int64\n",
       "BF                     Int64\n",
       "4s                     Int64\n",
       "6s                     Int64\n",
       "SR                   float64\n",
       "Mins                   Int64\n",
       "Dismissal     string[python]\n",
       "Opposition    string[python]\n",
       "Location      string[python]\n",
       "dtype: object"
      ]
     },
     "metadata": {},
     "output_type": "display_data"
    },
    {
     "data": {
      "text/plain": [
       "Match ID      string[python]\n",
       "Start Date    datetime64[ns]\n",
       "Format        string[python]\n",
       "Inns                   Int64\n",
       "Pos                    Int64\n",
       "Overs                float64\n",
       "Mdns                   Int64\n",
       "Runs                   Int64\n",
       "Wkts                   Int64\n",
       "Econ                 float64\n",
       "Opposition    string[python]\n",
       "Location      string[python]\n",
       "dtype: object"
      ]
     },
     "metadata": {},
     "output_type": "display_data"
    },
    {
     "data": {
      "text/plain": [
       "Match ID      string[python]\n",
       "Start Date    datetime64[ns]\n",
       "Format        string[python]\n",
       "Inns                   Int64\n",
       "Dis                    Int64\n",
       "Ct                     Int64\n",
       "Opposition    string[python]\n",
       "Location      string[python]\n",
       "dtype: object"
      ]
     },
     "metadata": {},
     "output_type": "display_data"
    },
    {
     "data": {
      "text/plain": [
       "Player ID         int64\n",
       "Player URL       object\n",
       "FULL NAME        object\n",
       "BORN             object\n",
       "AGE              object\n",
       "BATTING STYLE    object\n",
       "BOWLING STYLE    object\n",
       "PLAYING ROLE     object\n",
       "dtype: object"
      ]
     },
     "metadata": {},
     "output_type": "display_data"
    }
   ],
   "source": [
    "display(\n",
    "    virat_tf_loader.battingstats.dtypes,\n",
    "    virat_tf_loader.bowlingstats.dtypes,\n",
    "    virat_tf_loader.fieldingstats.dtypes,\n",
    "    virat_tf_loader.player_info.dtypes\n",
    ")"
   ]
  },
  {
   "cell_type": "code",
   "execution_count": 10,
   "metadata": {},
   "outputs": [
    {
     "data": {
      "application/vnd.microsoft.datawrangler.viewer.v0+json": {
       "columns": [
        {
         "name": "index",
         "rawType": "int64",
         "type": "integer"
        },
        {
         "name": "Match ID",
         "rawType": "string",
         "type": "string"
        },
        {
         "name": "Start Date",
         "rawType": "datetime64[ns]",
         "type": "datetime"
        },
        {
         "name": "Format",
         "rawType": "string",
         "type": "string"
        },
        {
         "name": "Inns",
         "rawType": "Int64",
         "type": "integer"
        },
        {
         "name": "Pos",
         "rawType": "Int64",
         "type": "integer"
        },
        {
         "name": "Runs",
         "rawType": "Int64",
         "type": "integer"
        },
        {
         "name": "BF",
         "rawType": "Int64",
         "type": "integer"
        },
        {
         "name": "4s",
         "rawType": "Int64",
         "type": "integer"
        },
        {
         "name": "6s",
         "rawType": "Int64",
         "type": "integer"
        },
        {
         "name": "SR",
         "rawType": "float64",
         "type": "float"
        },
        {
         "name": "Mins",
         "rawType": "Int64",
         "type": "integer"
        },
        {
         "name": "Dismissal",
         "rawType": "string",
         "type": "string"
        },
        {
         "name": "Opposition",
         "rawType": "string",
         "type": "string"
        },
        {
         "name": "Location",
         "rawType": "string",
         "type": "string"
        }
       ],
       "conversionMethod": "pd.DataFrame",
       "ref": "2f3234ed-a7d5-4003-907a-b611603aa092",
       "rows": [
        [
         "0",
         "#2742",
         "2008-08-18 00:00:00",
         "ODI",
         "1",
         "2",
         "12",
         "22",
         "1",
         "0",
         "54.54",
         "33",
         "lbw",
         "Sri Lanka",
         "Dambulla"
        ],
        [
         "1",
         "#2745",
         "2008-08-20 00:00:00",
         "ODI",
         "2",
         "2",
         "37",
         "67",
         "6",
         "0",
         "55.22",
         "82",
         "caught",
         "Sri Lanka",
         "Dambulla"
        ],
        [
         "2",
         "#2750",
         "2008-08-24 00:00:00",
         "ODI",
         "1",
         "1",
         "25",
         "38",
         "4",
         "0",
         "65.78",
         "40",
         "run out",
         "Sri Lanka",
         "Colombo"
        ],
        [
         "3",
         "#2755",
         "2008-08-27 00:00:00",
         "ODI",
         "1",
         "1",
         "54",
         "66",
         "7",
         "0",
         "81.81",
         "87",
         "bowled",
         "Sri Lanka",
         "Colombo"
        ],
        [
         "4",
         "#2756",
         "2008-08-29 00:00:00",
         "ODI",
         "2",
         "1",
         "31",
         "46",
         "3",
         "1",
         "67.39",
         "45",
         "lbw",
         "Sri Lanka",
         "Colombo"
        ]
       ],
       "shape": {
        "columns": 14,
        "rows": 5
       }
      },
      "text/html": [
       "<div>\n",
       "<style scoped>\n",
       "    .dataframe tbody tr th:only-of-type {\n",
       "        vertical-align: middle;\n",
       "    }\n",
       "\n",
       "    .dataframe tbody tr th {\n",
       "        vertical-align: top;\n",
       "    }\n",
       "\n",
       "    .dataframe thead th {\n",
       "        text-align: right;\n",
       "    }\n",
       "</style>\n",
       "<table border=\"1\" class=\"dataframe\">\n",
       "  <thead>\n",
       "    <tr style=\"text-align: right;\">\n",
       "      <th></th>\n",
       "      <th>Match ID</th>\n",
       "      <th>Start Date</th>\n",
       "      <th>Format</th>\n",
       "      <th>Inns</th>\n",
       "      <th>Pos</th>\n",
       "      <th>Runs</th>\n",
       "      <th>BF</th>\n",
       "      <th>4s</th>\n",
       "      <th>6s</th>\n",
       "      <th>SR</th>\n",
       "      <th>Mins</th>\n",
       "      <th>Dismissal</th>\n",
       "      <th>Opposition</th>\n",
       "      <th>Location</th>\n",
       "    </tr>\n",
       "  </thead>\n",
       "  <tbody>\n",
       "    <tr>\n",
       "      <th>0</th>\n",
       "      <td>#2742</td>\n",
       "      <td>2008-08-18</td>\n",
       "      <td>ODI</td>\n",
       "      <td>1</td>\n",
       "      <td>2</td>\n",
       "      <td>12</td>\n",
       "      <td>22</td>\n",
       "      <td>1</td>\n",
       "      <td>0</td>\n",
       "      <td>54.54</td>\n",
       "      <td>33</td>\n",
       "      <td>lbw</td>\n",
       "      <td>Sri Lanka</td>\n",
       "      <td>Dambulla</td>\n",
       "    </tr>\n",
       "    <tr>\n",
       "      <th>1</th>\n",
       "      <td>#2745</td>\n",
       "      <td>2008-08-20</td>\n",
       "      <td>ODI</td>\n",
       "      <td>2</td>\n",
       "      <td>2</td>\n",
       "      <td>37</td>\n",
       "      <td>67</td>\n",
       "      <td>6</td>\n",
       "      <td>0</td>\n",
       "      <td>55.22</td>\n",
       "      <td>82</td>\n",
       "      <td>caught</td>\n",
       "      <td>Sri Lanka</td>\n",
       "      <td>Dambulla</td>\n",
       "    </tr>\n",
       "    <tr>\n",
       "      <th>2</th>\n",
       "      <td>#2750</td>\n",
       "      <td>2008-08-24</td>\n",
       "      <td>ODI</td>\n",
       "      <td>1</td>\n",
       "      <td>1</td>\n",
       "      <td>25</td>\n",
       "      <td>38</td>\n",
       "      <td>4</td>\n",
       "      <td>0</td>\n",
       "      <td>65.78</td>\n",
       "      <td>40</td>\n",
       "      <td>run out</td>\n",
       "      <td>Sri Lanka</td>\n",
       "      <td>Colombo</td>\n",
       "    </tr>\n",
       "    <tr>\n",
       "      <th>3</th>\n",
       "      <td>#2755</td>\n",
       "      <td>2008-08-27</td>\n",
       "      <td>ODI</td>\n",
       "      <td>1</td>\n",
       "      <td>1</td>\n",
       "      <td>54</td>\n",
       "      <td>66</td>\n",
       "      <td>7</td>\n",
       "      <td>0</td>\n",
       "      <td>81.81</td>\n",
       "      <td>87</td>\n",
       "      <td>bowled</td>\n",
       "      <td>Sri Lanka</td>\n",
       "      <td>Colombo</td>\n",
       "    </tr>\n",
       "    <tr>\n",
       "      <th>4</th>\n",
       "      <td>#2756</td>\n",
       "      <td>2008-08-29</td>\n",
       "      <td>ODI</td>\n",
       "      <td>2</td>\n",
       "      <td>1</td>\n",
       "      <td>31</td>\n",
       "      <td>46</td>\n",
       "      <td>3</td>\n",
       "      <td>1</td>\n",
       "      <td>67.39</td>\n",
       "      <td>45</td>\n",
       "      <td>lbw</td>\n",
       "      <td>Sri Lanka</td>\n",
       "      <td>Colombo</td>\n",
       "    </tr>\n",
       "  </tbody>\n",
       "</table>\n",
       "</div>"
      ],
      "text/plain": [
       "  Match ID Start Date Format  Inns  Pos  Runs  BF  4s  6s     SR  Mins  \\\n",
       "0    #2742 2008-08-18    ODI     1    2    12  22   1   0  54.54    33   \n",
       "1    #2745 2008-08-20    ODI     2    2    37  67   6   0  55.22    82   \n",
       "2    #2750 2008-08-24    ODI     1    1    25  38   4   0  65.78    40   \n",
       "3    #2755 2008-08-27    ODI     1    1    54  66   7   0  81.81    87   \n",
       "4    #2756 2008-08-29    ODI     2    1    31  46   3   1  67.39    45   \n",
       "\n",
       "  Dismissal Opposition  Location  \n",
       "0       lbw  Sri Lanka  Dambulla  \n",
       "1    caught  Sri Lanka  Dambulla  \n",
       "2   run out  Sri Lanka   Colombo  \n",
       "3    bowled  Sri Lanka   Colombo  \n",
       "4       lbw  Sri Lanka   Colombo  "
      ]
     },
     "metadata": {},
     "output_type": "display_data"
    },
    {
     "data": {
      "application/vnd.microsoft.datawrangler.viewer.v0+json": {
       "columns": [
        {
         "name": "index",
         "rawType": "int64",
         "type": "integer"
        },
        {
         "name": "Match ID",
         "rawType": "string",
         "type": "string"
        },
        {
         "name": "Start Date",
         "rawType": "datetime64[ns]",
         "type": "datetime"
        },
        {
         "name": "Format",
         "rawType": "string",
         "type": "string"
        },
        {
         "name": "Inns",
         "rawType": "Int64",
         "type": "integer"
        },
        {
         "name": "Pos",
         "rawType": "Int64",
         "type": "integer"
        },
        {
         "name": "Overs",
         "rawType": "float64",
         "type": "float"
        },
        {
         "name": "Mdns",
         "rawType": "Int64",
         "type": "integer"
        },
        {
         "name": "Runs",
         "rawType": "Int64",
         "type": "integer"
        },
        {
         "name": "Wkts",
         "rawType": "Int64",
         "type": "integer"
        },
        {
         "name": "Econ",
         "rawType": "float64",
         "type": "float"
        },
        {
         "name": "Opposition",
         "rawType": "string",
         "type": "string"
        },
        {
         "name": "Location",
         "rawType": "string",
         "type": "string"
        }
       ],
       "conversionMethod": "pd.DataFrame",
       "ref": "718409fa-884e-4d7b-80fc-c69ed29df8f9",
       "rows": [
        [
         "0",
         "#2742",
         "2008-08-18 00:00:00",
         "ODI",
         "2",
         null,
         null,
         null,
         null,
         null,
         null,
         "Sri Lanka",
         "Dambulla"
        ],
        [
         "1",
         "#2745",
         "2008-08-20 00:00:00",
         "ODI",
         "1",
         null,
         null,
         null,
         null,
         null,
         null,
         "Sri Lanka",
         "Dambulla"
        ],
        [
         "2",
         "#2750",
         "2008-08-24 00:00:00",
         "ODI",
         "2",
         null,
         null,
         null,
         null,
         null,
         null,
         "Sri Lanka",
         "Colombo"
        ],
        [
         "3",
         "#2755",
         "2008-08-27 00:00:00",
         "ODI",
         "2",
         null,
         null,
         null,
         null,
         null,
         null,
         "Sri Lanka",
         "Colombo"
        ],
        [
         "4",
         "#2756",
         "2008-08-29 00:00:00",
         "ODI",
         "1",
         null,
         null,
         null,
         null,
         null,
         null,
         "Sri Lanka",
         "Colombo"
        ]
       ],
       "shape": {
        "columns": 12,
        "rows": 5
       }
      },
      "text/html": [
       "<div>\n",
       "<style scoped>\n",
       "    .dataframe tbody tr th:only-of-type {\n",
       "        vertical-align: middle;\n",
       "    }\n",
       "\n",
       "    .dataframe tbody tr th {\n",
       "        vertical-align: top;\n",
       "    }\n",
       "\n",
       "    .dataframe thead th {\n",
       "        text-align: right;\n",
       "    }\n",
       "</style>\n",
       "<table border=\"1\" class=\"dataframe\">\n",
       "  <thead>\n",
       "    <tr style=\"text-align: right;\">\n",
       "      <th></th>\n",
       "      <th>Match ID</th>\n",
       "      <th>Start Date</th>\n",
       "      <th>Format</th>\n",
       "      <th>Inns</th>\n",
       "      <th>Pos</th>\n",
       "      <th>Overs</th>\n",
       "      <th>Mdns</th>\n",
       "      <th>Runs</th>\n",
       "      <th>Wkts</th>\n",
       "      <th>Econ</th>\n",
       "      <th>Opposition</th>\n",
       "      <th>Location</th>\n",
       "    </tr>\n",
       "  </thead>\n",
       "  <tbody>\n",
       "    <tr>\n",
       "      <th>0</th>\n",
       "      <td>#2742</td>\n",
       "      <td>2008-08-18</td>\n",
       "      <td>ODI</td>\n",
       "      <td>2</td>\n",
       "      <td>&lt;NA&gt;</td>\n",
       "      <td>NaN</td>\n",
       "      <td>&lt;NA&gt;</td>\n",
       "      <td>&lt;NA&gt;</td>\n",
       "      <td>&lt;NA&gt;</td>\n",
       "      <td>NaN</td>\n",
       "      <td>Sri Lanka</td>\n",
       "      <td>Dambulla</td>\n",
       "    </tr>\n",
       "    <tr>\n",
       "      <th>1</th>\n",
       "      <td>#2745</td>\n",
       "      <td>2008-08-20</td>\n",
       "      <td>ODI</td>\n",
       "      <td>1</td>\n",
       "      <td>&lt;NA&gt;</td>\n",
       "      <td>NaN</td>\n",
       "      <td>&lt;NA&gt;</td>\n",
       "      <td>&lt;NA&gt;</td>\n",
       "      <td>&lt;NA&gt;</td>\n",
       "      <td>NaN</td>\n",
       "      <td>Sri Lanka</td>\n",
       "      <td>Dambulla</td>\n",
       "    </tr>\n",
       "    <tr>\n",
       "      <th>2</th>\n",
       "      <td>#2750</td>\n",
       "      <td>2008-08-24</td>\n",
       "      <td>ODI</td>\n",
       "      <td>2</td>\n",
       "      <td>&lt;NA&gt;</td>\n",
       "      <td>NaN</td>\n",
       "      <td>&lt;NA&gt;</td>\n",
       "      <td>&lt;NA&gt;</td>\n",
       "      <td>&lt;NA&gt;</td>\n",
       "      <td>NaN</td>\n",
       "      <td>Sri Lanka</td>\n",
       "      <td>Colombo</td>\n",
       "    </tr>\n",
       "    <tr>\n",
       "      <th>3</th>\n",
       "      <td>#2755</td>\n",
       "      <td>2008-08-27</td>\n",
       "      <td>ODI</td>\n",
       "      <td>2</td>\n",
       "      <td>&lt;NA&gt;</td>\n",
       "      <td>NaN</td>\n",
       "      <td>&lt;NA&gt;</td>\n",
       "      <td>&lt;NA&gt;</td>\n",
       "      <td>&lt;NA&gt;</td>\n",
       "      <td>NaN</td>\n",
       "      <td>Sri Lanka</td>\n",
       "      <td>Colombo</td>\n",
       "    </tr>\n",
       "    <tr>\n",
       "      <th>4</th>\n",
       "      <td>#2756</td>\n",
       "      <td>2008-08-29</td>\n",
       "      <td>ODI</td>\n",
       "      <td>1</td>\n",
       "      <td>&lt;NA&gt;</td>\n",
       "      <td>NaN</td>\n",
       "      <td>&lt;NA&gt;</td>\n",
       "      <td>&lt;NA&gt;</td>\n",
       "      <td>&lt;NA&gt;</td>\n",
       "      <td>NaN</td>\n",
       "      <td>Sri Lanka</td>\n",
       "      <td>Colombo</td>\n",
       "    </tr>\n",
       "  </tbody>\n",
       "</table>\n",
       "</div>"
      ],
      "text/plain": [
       "  Match ID Start Date Format  Inns   Pos  Overs  Mdns  Runs  Wkts  Econ  \\\n",
       "0    #2742 2008-08-18    ODI     2  <NA>    NaN  <NA>  <NA>  <NA>   NaN   \n",
       "1    #2745 2008-08-20    ODI     1  <NA>    NaN  <NA>  <NA>  <NA>   NaN   \n",
       "2    #2750 2008-08-24    ODI     2  <NA>    NaN  <NA>  <NA>  <NA>   NaN   \n",
       "3    #2755 2008-08-27    ODI     2  <NA>    NaN  <NA>  <NA>  <NA>   NaN   \n",
       "4    #2756 2008-08-29    ODI     1  <NA>    NaN  <NA>  <NA>  <NA>   NaN   \n",
       "\n",
       "  Opposition  Location  \n",
       "0  Sri Lanka  Dambulla  \n",
       "1  Sri Lanka  Dambulla  \n",
       "2  Sri Lanka   Colombo  \n",
       "3  Sri Lanka   Colombo  \n",
       "4  Sri Lanka   Colombo  "
      ]
     },
     "metadata": {},
     "output_type": "display_data"
    },
    {
     "data": {
      "application/vnd.microsoft.datawrangler.viewer.v0+json": {
       "columns": [
        {
         "name": "index",
         "rawType": "int64",
         "type": "integer"
        },
        {
         "name": "Match ID",
         "rawType": "string",
         "type": "string"
        },
        {
         "name": "Start Date",
         "rawType": "datetime64[ns]",
         "type": "datetime"
        },
        {
         "name": "Format",
         "rawType": "string",
         "type": "string"
        },
        {
         "name": "Inns",
         "rawType": "Int64",
         "type": "integer"
        },
        {
         "name": "Dis",
         "rawType": "Int64",
         "type": "integer"
        },
        {
         "name": "Ct",
         "rawType": "Int64",
         "type": "integer"
        },
        {
         "name": "Opposition",
         "rawType": "string",
         "type": "string"
        },
        {
         "name": "Location",
         "rawType": "string",
         "type": "string"
        }
       ],
       "conversionMethod": "pd.DataFrame",
       "ref": "b4cd7c4d-5c30-4ab4-98d5-846d3ebeafe2",
       "rows": [
        [
         "0",
         "#2742",
         "2008-08-18 00:00:00",
         "ODI",
         "2",
         "0",
         "0",
         "Sri Lanka",
         "Dambulla"
        ],
        [
         "1",
         "#2745",
         "2008-08-20 00:00:00",
         "ODI",
         "1",
         "3",
         "3",
         "Sri Lanka",
         "Dambulla"
        ],
        [
         "2",
         "#2750",
         "2008-08-24 00:00:00",
         "ODI",
         "2",
         "0",
         "0",
         "Sri Lanka",
         "Colombo"
        ],
        [
         "3",
         "#2755",
         "2008-08-27 00:00:00",
         "ODI",
         "2",
         "0",
         "0",
         "Sri Lanka",
         "Colombo"
        ],
        [
         "4",
         "#2756",
         "2008-08-29 00:00:00",
         "ODI",
         "1",
         "0",
         "0",
         "Sri Lanka",
         "Colombo"
        ]
       ],
       "shape": {
        "columns": 8,
        "rows": 5
       }
      },
      "text/html": [
       "<div>\n",
       "<style scoped>\n",
       "    .dataframe tbody tr th:only-of-type {\n",
       "        vertical-align: middle;\n",
       "    }\n",
       "\n",
       "    .dataframe tbody tr th {\n",
       "        vertical-align: top;\n",
       "    }\n",
       "\n",
       "    .dataframe thead th {\n",
       "        text-align: right;\n",
       "    }\n",
       "</style>\n",
       "<table border=\"1\" class=\"dataframe\">\n",
       "  <thead>\n",
       "    <tr style=\"text-align: right;\">\n",
       "      <th></th>\n",
       "      <th>Match ID</th>\n",
       "      <th>Start Date</th>\n",
       "      <th>Format</th>\n",
       "      <th>Inns</th>\n",
       "      <th>Dis</th>\n",
       "      <th>Ct</th>\n",
       "      <th>Opposition</th>\n",
       "      <th>Location</th>\n",
       "    </tr>\n",
       "  </thead>\n",
       "  <tbody>\n",
       "    <tr>\n",
       "      <th>0</th>\n",
       "      <td>#2742</td>\n",
       "      <td>2008-08-18</td>\n",
       "      <td>ODI</td>\n",
       "      <td>2</td>\n",
       "      <td>0</td>\n",
       "      <td>0</td>\n",
       "      <td>Sri Lanka</td>\n",
       "      <td>Dambulla</td>\n",
       "    </tr>\n",
       "    <tr>\n",
       "      <th>1</th>\n",
       "      <td>#2745</td>\n",
       "      <td>2008-08-20</td>\n",
       "      <td>ODI</td>\n",
       "      <td>1</td>\n",
       "      <td>3</td>\n",
       "      <td>3</td>\n",
       "      <td>Sri Lanka</td>\n",
       "      <td>Dambulla</td>\n",
       "    </tr>\n",
       "    <tr>\n",
       "      <th>2</th>\n",
       "      <td>#2750</td>\n",
       "      <td>2008-08-24</td>\n",
       "      <td>ODI</td>\n",
       "      <td>2</td>\n",
       "      <td>0</td>\n",
       "      <td>0</td>\n",
       "      <td>Sri Lanka</td>\n",
       "      <td>Colombo</td>\n",
       "    </tr>\n",
       "    <tr>\n",
       "      <th>3</th>\n",
       "      <td>#2755</td>\n",
       "      <td>2008-08-27</td>\n",
       "      <td>ODI</td>\n",
       "      <td>2</td>\n",
       "      <td>0</td>\n",
       "      <td>0</td>\n",
       "      <td>Sri Lanka</td>\n",
       "      <td>Colombo</td>\n",
       "    </tr>\n",
       "    <tr>\n",
       "      <th>4</th>\n",
       "      <td>#2756</td>\n",
       "      <td>2008-08-29</td>\n",
       "      <td>ODI</td>\n",
       "      <td>1</td>\n",
       "      <td>0</td>\n",
       "      <td>0</td>\n",
       "      <td>Sri Lanka</td>\n",
       "      <td>Colombo</td>\n",
       "    </tr>\n",
       "  </tbody>\n",
       "</table>\n",
       "</div>"
      ],
      "text/plain": [
       "  Match ID Start Date Format  Inns  Dis  Ct Opposition  Location\n",
       "0    #2742 2008-08-18    ODI     2    0   0  Sri Lanka  Dambulla\n",
       "1    #2745 2008-08-20    ODI     1    3   3  Sri Lanka  Dambulla\n",
       "2    #2750 2008-08-24    ODI     2    0   0  Sri Lanka   Colombo\n",
       "3    #2755 2008-08-27    ODI     2    0   0  Sri Lanka   Colombo\n",
       "4    #2756 2008-08-29    ODI     1    0   0  Sri Lanka   Colombo"
      ]
     },
     "metadata": {},
     "output_type": "display_data"
    },
    {
     "data": {
      "application/vnd.microsoft.datawrangler.viewer.v0+json": {
       "columns": [
        {
         "name": "index",
         "rawType": "int64",
         "type": "integer"
        },
        {
         "name": "Player ID",
         "rawType": "int64",
         "type": "integer"
        },
        {
         "name": "Player URL",
         "rawType": "object",
         "type": "string"
        },
        {
         "name": "FULL NAME",
         "rawType": "object",
         "type": "string"
        },
        {
         "name": "BORN",
         "rawType": "object",
         "type": "string"
        },
        {
         "name": "AGE",
         "rawType": "object",
         "type": "string"
        },
        {
         "name": "BATTING STYLE",
         "rawType": "object",
         "type": "string"
        },
        {
         "name": "BOWLING STYLE",
         "rawType": "object",
         "type": "string"
        },
        {
         "name": "PLAYING ROLE",
         "rawType": "object",
         "type": "string"
        }
       ],
       "conversionMethod": "pd.DataFrame",
       "ref": "1c6d5344-eda1-4454-97f4-626c31557e59",
       "rows": [
        [
         "0",
         "253802",
         "https://www.espncricinfo.com/cricketers/virat-kohli-253802",
         "Virat Kohli",
         "November 05, 1988, Delhi",
         "36y 143d",
         "Right hand Bat",
         "Right arm Medium",
         "Top order Batter"
        ]
       ],
       "shape": {
        "columns": 8,
        "rows": 1
       }
      },
      "text/html": [
       "<div>\n",
       "<style scoped>\n",
       "    .dataframe tbody tr th:only-of-type {\n",
       "        vertical-align: middle;\n",
       "    }\n",
       "\n",
       "    .dataframe tbody tr th {\n",
       "        vertical-align: top;\n",
       "    }\n",
       "\n",
       "    .dataframe thead th {\n",
       "        text-align: right;\n",
       "    }\n",
       "</style>\n",
       "<table border=\"1\" class=\"dataframe\">\n",
       "  <thead>\n",
       "    <tr style=\"text-align: right;\">\n",
       "      <th></th>\n",
       "      <th>Player ID</th>\n",
       "      <th>Player URL</th>\n",
       "      <th>FULL NAME</th>\n",
       "      <th>BORN</th>\n",
       "      <th>AGE</th>\n",
       "      <th>BATTING STYLE</th>\n",
       "      <th>BOWLING STYLE</th>\n",
       "      <th>PLAYING ROLE</th>\n",
       "    </tr>\n",
       "  </thead>\n",
       "  <tbody>\n",
       "    <tr>\n",
       "      <th>0</th>\n",
       "      <td>253802</td>\n",
       "      <td>https://www.espncricinfo.com/cricketers/virat-...</td>\n",
       "      <td>Virat Kohli</td>\n",
       "      <td>November 05, 1988, Delhi</td>\n",
       "      <td>36y 143d</td>\n",
       "      <td>Right hand Bat</td>\n",
       "      <td>Right arm Medium</td>\n",
       "      <td>Top order Batter</td>\n",
       "    </tr>\n",
       "  </tbody>\n",
       "</table>\n",
       "</div>"
      ],
      "text/plain": [
       "   Player ID                                         Player URL    FULL NAME  \\\n",
       "0     253802  https://www.espncricinfo.com/cricketers/virat-...  Virat Kohli   \n",
       "\n",
       "                       BORN       AGE   BATTING STYLE     BOWLING STYLE  \\\n",
       "0  November 05, 1988, Delhi  36y 143d  Right hand Bat  Right arm Medium   \n",
       "\n",
       "       PLAYING ROLE  \n",
       "0  Top order Batter  "
      ]
     },
     "metadata": {},
     "output_type": "display_data"
    }
   ],
   "source": [
    "display(\n",
    "    virat_tf.battingstats.head(),\n",
    "    virat_tf.bowlingstats.head(),\n",
    "    virat_tf.fieldingstats.head(),\n",
    "    virat_tf.player_info\n",
    ")"
   ]
  },
  {
   "cell_type": "markdown",
   "metadata": {},
   "source": [
    "### Jacques Kallis"
   ]
  },
  {
   "cell_type": "code",
   "execution_count": 11,
   "metadata": {},
   "outputs": [
    {
     "name": "stdout",
     "output_type": "stream",
     "text": [
      "Setting up WebDriver...\n",
      "Extracting Jacques Kallis's player URL and Player ID....\n",
      "Extraction Successful for Jacques Kallis.\n",
      "Time taken to extract URL: 3.75 seconds\n",
      "Starting extraction of Jacques Kallis's batting stats....\n",
      "Extracted 646 records in 106.34 seconds\n",
      "Starting extraction of Jacques Kallis's bowling stats....\n",
      "Extracted 668 records in 98.09 seconds\n",
      "Starting extraction of Jacques Kallis's personal info....\n",
      "Extracted player info in 3.25 seconds\n",
      "Starting extraction of Jacques Kallis's allround stats....\n",
      "Extracted 1314 records in 164.62 seconds\n",
      "Starting extraction of Jacques Kallis's fielding stats....\n",
      "Extracted 668 records in 95.65 seconds\n",
      "Uploading jacques_kallis's raw data to GCS...\n",
      "Bucket 'cricketer_stats' already exists.\n",
      "File uploaded to GCS: gs://cricketer_stats/jacques_kallis/raw/batting_stats.csv\n",
      "File uploaded to GCS: gs://cricketer_stats/jacques_kallis/raw/bowling_stats.csv\n",
      "File uploaded to GCS: gs://cricketer_stats/jacques_kallis/raw/fielding_stats.csv\n",
      "File uploaded to GCS: gs://cricketer_stats/jacques_kallis/raw/allround_stats.csv\n",
      "File uploaded to GCS: gs://cricketer_stats/jacques_kallis/raw/personal_info.csv\n",
      "All raw data successfully uploaded to GCS in gs://cricketer_stats/jacques_kallis/raw/\n"
     ]
    }
   ],
   "source": [
    "#scraping data\n",
    "player_name = \"Jacques Kallis\"\n",
    "kallis_raw = Cricketer_Stats_Scraper(player_name)\n",
    "kallis_raw.get_player_stats()\n",
    "\n",
    "#saving raw data to bucket\n",
    "bucket_name = \"cricketer_stats\"\n",
    "\n",
    "kallis_raw_loader = CricketerStatsLoader(player_name)\n",
    "kallis_raw_loader.battingstats = kallis_raw.battingstats\n",
    "kallis_raw_loader.bowlingstats = kallis_raw.bowlingstats\n",
    "kallis_raw_loader.fieldingstats = kallis_raw.fieldingstats\n",
    "kallis_raw_loader.allroundstats = kallis_raw.allroundstats\n",
    "kallis_raw_loader.player_info = kallis_raw.player_info\n",
    "\n",
    "kallis_raw_loader.load_data(bucket_name)"
   ]
  },
  {
   "cell_type": "code",
   "execution_count": 12,
   "metadata": {},
   "outputs": [
    {
     "name": "stdout",
     "output_type": "stream",
     "text": [
      "Successfully downloaded batting data from gs://cricketer_stats/jacques_kallis/raw/batting_stats.csv\n",
      "Successfully downloaded bowling data from gs://cricketer_stats/jacques_kallis/raw/bowling_stats.csv\n",
      "Successfully downloaded fielding data from gs://cricketer_stats/jacques_kallis/raw/fielding_stats.csv\n",
      "Successfully downloaded allround data from gs://cricketer_stats/jacques_kallis/raw/allround_stats.csv\n",
      "Successfully downloaded personal_info data from gs://cricketer_stats/jacques_kallis/raw/personal_info.csv\n",
      "Processing Jacques Kallis's batting stats...\n",
      "Batting stats processed successfully.\n",
      "Processing Jacques Kallis's bowling stats...\n",
      "Bowling stats processed successfully.\n",
      "Processing Jacques Kallis's fielding stats...\n",
      "Fielding stats processed successfully.\n",
      "Processing Jacques Kallis's all-round stats...\n",
      "All-round stats processed successfully.\n",
      "Uploading jacques_kallis's tf data to GCS...\n",
      "Bucket 'cricketer_stats' already exists.\n",
      "File uploaded to GCS: gs://cricketer_stats/jacques_kallis/tf/batting_stats.csv\n",
      "File uploaded to GCS: gs://cricketer_stats/jacques_kallis/tf/bowling_stats.csv\n",
      "File uploaded to GCS: gs://cricketer_stats/jacques_kallis/tf/fielding_stats.csv\n",
      "File uploaded to GCS: gs://cricketer_stats/jacques_kallis/tf/allround_stats.csv\n",
      "File uploaded to GCS: gs://cricketer_stats/jacques_kallis/tf/personal_info.csv\n",
      "All tf data successfully uploaded to GCS in gs://cricketer_stats/jacques_kallis/tf/\n"
     ]
    }
   ],
   "source": [
    "#downloading raw data from bucket and assigning to transformer object\n",
    "player_name = \"Jacques Kallis\"\n",
    "bucket_name = \"cricketer_stats\"\n",
    "\n",
    "kallis_raw_downloader = CricketerStatsLoader(player_name, data_type=\"raw\")\n",
    "kallis_tf = Cricketer_Stats_Transformer(player_name)\n",
    "\n",
    "kallis_tf.battingstats = kallis_raw_downloader.download_df_from_gcs(bucket_name, \"batting\")\n",
    "kallis_tf.bowlingstats = kallis_raw_downloader.download_df_from_gcs(bucket_name, \"bowling\")\n",
    "kallis_tf.fieldingstats = kallis_raw_downloader.download_df_from_gcs(bucket_name, \"fielding\")\n",
    "kallis_tf.allroundstats = kallis_raw_downloader.download_df_from_gcs(bucket_name, \"allround\")\n",
    "kallis_tf.player_info = kallis_raw_downloader.download_df_from_gcs(bucket_name, \"personal_info\")\n",
    "\n",
    "#transforming data\n",
    "kallis_tf.process_data()\n",
    "\n",
    "#saving transformed data to bucket\n",
    "kallis_tf_loader = CricketerStatsLoader(player_name, data_type=\"tf\")\n",
    "\n",
    "kallis_tf_loader.battingstats = kallis_tf.battingstats\n",
    "kallis_tf_loader.bowlingstats = kallis_tf.bowlingstats\n",
    "kallis_tf_loader.fieldingstats = kallis_tf.fieldingstats\n",
    "kallis_tf_loader.allroundstats = kallis_tf.allroundstats\n",
    "kallis_tf_loader.player_info = kallis_tf.player_info\n",
    "\n",
    "kallis_tf_loader.load_data(bucket_name)"
   ]
  },
  {
   "cell_type": "code",
   "execution_count": 13,
   "metadata": {},
   "outputs": [
    {
     "data": {
      "text/plain": [
       "Match ID      string[python]\n",
       "Start Date    datetime64[ns]\n",
       "Format        string[python]\n",
       "Inns                   Int64\n",
       "Pos                    Int64\n",
       "Runs                   Int64\n",
       "BF                     Int64\n",
       "4s                     Int64\n",
       "6s                     Int64\n",
       "SR                   float64\n",
       "Mins                   Int64\n",
       "Dismissal     string[python]\n",
       "Opposition    string[python]\n",
       "Location      string[python]\n",
       "dtype: object"
      ]
     },
     "metadata": {},
     "output_type": "display_data"
    },
    {
     "data": {
      "text/plain": [
       "Match ID      string[python]\n",
       "Start Date    datetime64[ns]\n",
       "Format        string[python]\n",
       "Inns                   Int64\n",
       "Pos                    Int64\n",
       "Overs                float64\n",
       "Mdns                   Int64\n",
       "Runs                   Int64\n",
       "Wkts                   Int64\n",
       "Econ                 float64\n",
       "Opposition    string[python]\n",
       "Location      string[python]\n",
       "dtype: object"
      ]
     },
     "metadata": {},
     "output_type": "display_data"
    },
    {
     "data": {
      "text/plain": [
       "Match ID      string[python]\n",
       "Start Date    datetime64[ns]\n",
       "Format        string[python]\n",
       "Inns                   Int64\n",
       "Dis                    Int64\n",
       "Ct                     Int64\n",
       "Opposition    string[python]\n",
       "Location      string[python]\n",
       "dtype: object"
      ]
     },
     "metadata": {},
     "output_type": "display_data"
    },
    {
     "data": {
      "text/plain": [
       "Player ID         int64\n",
       "Player URL       object\n",
       "FULL NAME        object\n",
       "BORN             object\n",
       "AGE              object\n",
       "BATTING STYLE    object\n",
       "BOWLING STYLE    object\n",
       "PLAYING ROLE     object\n",
       "dtype: object"
      ]
     },
     "metadata": {},
     "output_type": "display_data"
    }
   ],
   "source": [
    "display(\n",
    "    kallis_tf_loader.battingstats.dtypes,\n",
    "    kallis_tf_loader.bowlingstats.dtypes,\n",
    "    kallis_tf_loader.fieldingstats.dtypes,\n",
    "    kallis_tf_loader.player_info.dtypes\n",
    ")"
   ]
  },
  {
   "cell_type": "markdown",
   "metadata": {},
   "source": [
    "### Mitchell Johnson"
   ]
  },
  {
   "cell_type": "code",
   "execution_count": 10,
   "metadata": {},
   "outputs": [
    {
     "name": "stdout",
     "output_type": "stream",
     "text": [
      "Setting up WebDriver...\n",
      "Extracting Mitchell Johnson's player URL and Player ID....\n",
      "Extraction Successful for Mitchell Johnson.\n",
      "Time taken to extract URL: 15.59 seconds\n",
      "Starting extraction of Mitchell Johnson's batting stats....\n",
      "Extracted 320 records in 98.93 seconds\n",
      "Starting extraction of Mitchell Johnson's bowling stats....\n",
      "Extracted 324 records in 89.68 seconds\n",
      "Starting extraction of Mitchell Johnson's personal info....\n",
      "Extracted player info in 3.38 seconds\n",
      "Starting extraction of Mitchell Johnson's fielding stats....\n",
      "Extracted 324 records in 84.92 seconds\n",
      "🚀 Uploading mitchell_johnson's raw data to GCS...\n",
      "✅ Bucket 'cricketer_stats' already exists.\n",
      "✅ File uploaded to GCS: gs://cricketer_stats/mitchell_johnson/raw/batting_stats.csv\n",
      "✅ File uploaded to GCS: gs://cricketer_stats/mitchell_johnson/raw/bowling_stats.csv\n",
      "✅ File uploaded to GCS: gs://cricketer_stats/mitchell_johnson/raw/fielding_stats.csv\n",
      "✅ File uploaded to GCS: gs://cricketer_stats/mitchell_johnson/raw/personal_info.csv\n",
      "✅ All raw data successfully uploaded to GCS in gs://cricketer_stats/mitchell_johnson/raw/\n"
     ]
    }
   ],
   "source": [
    "#scraping data\n",
    "player_name = \"Mitchell Johnson\"\n",
    "johnson_raw = Cricketer_Stats_Scraper(player_name)\n",
    "johnson_raw.get_player_stats()\n",
    "\n",
    "#saving raw data to bucket\n",
    "bucket_name = \"cricketer_stats\"\n",
    "\n",
    "johnson_raw_loader = CricketerStatsLoader(player_name)\n",
    "johnson_raw_loader.battingstats = johnson_raw.battingstats\n",
    "johnson_raw_loader.bowlingstats = johnson_raw.bowlingstats\n",
    "johnson_raw_loader.fieldingstats = johnson_raw.fieldingstats\n",
    "johnson_raw_loader.allroundstats = johnson_raw.allroundstats\n",
    "johnson_raw_loader.player_info = johnson_raw.player_info\n",
    "\n",
    "johnson_raw_loader.load_data(bucket_name)\n"
   ]
  },
  {
   "cell_type": "code",
   "execution_count": 94,
   "metadata": {},
   "outputs": [
    {
     "name": "stdout",
     "output_type": "stream",
     "text": [
      "Successfully downloaded batting data from gs://cricketer_stats/mitchell_johnson/raw/batting_stats.csv\n",
      "Successfully downloaded bowling data from gs://cricketer_stats/mitchell_johnson/raw/bowling_stats.csv\n",
      "Successfully downloaded fielding data from gs://cricketer_stats/mitchell_johnson/raw/fielding_stats.csv\n",
      "Error downloading allround stats: 404 GET https://storage.googleapis.com/download/storage/v1/b/cricketer_stats/o/mitchell_johnson%2Fraw%2Fallround_stats.csv?alt=media: No such object: cricketer_stats/mitchell_johnson/raw/allround_stats.csv: ('Request failed with status code', 404, 'Expected one of', <HTTPStatus.OK: 200>, <HTTPStatus.PARTIAL_CONTENT: 206>)\n",
      "Successfully downloaded personal_info data from gs://cricketer_stats/mitchell_johnson/raw/personal_info.csv\n",
      "Processing Mitchell Johnson's batting stats...\n",
      "Batting stats processed successfully.\n",
      "Processing Mitchell Johnson's bowling stats...\n",
      "Bowling stats processed successfully.\n",
      "Processing Mitchell Johnson's fielding stats...\n",
      "Fielding stats processed successfully.\n",
      "Uploading mitchell_johnson's tf data to GCS...\n",
      "Bucket 'cricketer_stats' already exists.\n",
      "File uploaded to GCS: gs://cricketer_stats/mitchell_johnson/tf/batting_stats.csv\n",
      "File uploaded to GCS: gs://cricketer_stats/mitchell_johnson/tf/bowling_stats.csv\n",
      "File uploaded to GCS: gs://cricketer_stats/mitchell_johnson/tf/fielding_stats.csv\n",
      "File uploaded to GCS: gs://cricketer_stats/mitchell_johnson/tf/personal_info.csv\n",
      "All tf data successfully uploaded to GCS in gs://cricketer_stats/mitchell_johnson/tf/\n"
     ]
    }
   ],
   "source": [
    "#downloading raw data from bucket and assigning to transformer object\n",
    "player_name = \"Mitchell Johnson\"\n",
    "bucket_name = \"cricketer_stats\"\n",
    "\n",
    "johnson_raw_downloader = CricketerStatsLoader(player_name, data_type=\"raw\")\n",
    "johnson_tf = Cricketer_Stats_Transformer(player_name)\n",
    "\n",
    "johnson_tf.battingstats = johnson_raw_downloader.download_df_from_gcs(bucket_name, \"batting\")\n",
    "johnson_tf.bowlingstats = johnson_raw_downloader.download_df_from_gcs(bucket_name, \"bowling\")\n",
    "johnson_tf.fieldingstats = johnson_raw_downloader.download_df_from_gcs(bucket_name, \"fielding\")\n",
    "johnson_tf.allroundstats = johnson_raw_downloader.download_df_from_gcs(bucket_name, \"allround\")\n",
    "johnson_tf.player_info = johnson_raw_downloader.download_df_from_gcs(bucket_name, \"personal_info\")\n",
    "\n",
    "#transforming data\n",
    "johnson_tf.process_data()\n",
    "\n",
    "#saving transformed data to bucket\n",
    "johnson_tf_loader = CricketerStatsLoader(player_name, data_type=\"tf\")\n",
    "\n",
    "johnson_tf_loader.battingstats = johnson_tf.battingstats\n",
    "johnson_tf_loader.bowlingstats = johnson_tf.bowlingstats\n",
    "johnson_tf_loader.fieldingstats = johnson_tf.fieldingstats\n",
    "johnson_tf_loader.allroundstats = johnson_tf.allroundstats\n",
    "johnson_tf_loader.player_info = johnson_tf.player_info\n",
    "\n",
    "johnson_tf_loader.load_data(bucket_name)"
   ]
  },
  {
   "cell_type": "code",
   "execution_count": 95,
   "metadata": {},
   "outputs": [
    {
     "data": {
      "text/plain": [
       "Match ID      string[python]\n",
       "Start Date    datetime64[ns]\n",
       "Format        string[python]\n",
       "Inns                   Int64\n",
       "Pos                    Int64\n",
       "Runs                   Int64\n",
       "BF                     Int64\n",
       "4s                     Int64\n",
       "6s                     Int64\n",
       "SR                   float64\n",
       "Mins                   Int64\n",
       "Dismissal     string[python]\n",
       "Opposition    string[python]\n",
       "Location      string[python]\n",
       "dtype: object"
      ]
     },
     "metadata": {},
     "output_type": "display_data"
    },
    {
     "data": {
      "text/plain": [
       "Match ID      string[python]\n",
       "Start Date    datetime64[ns]\n",
       "Format        string[python]\n",
       "Inns                   Int64\n",
       "Pos                    Int64\n",
       "Overs                float64\n",
       "Mdns                   Int64\n",
       "Runs                   Int64\n",
       "Wkts                   Int64\n",
       "Econ                 float64\n",
       "Opposition    string[python]\n",
       "Location      string[python]\n",
       "dtype: object"
      ]
     },
     "metadata": {},
     "output_type": "display_data"
    },
    {
     "data": {
      "text/plain": [
       "Match ID      string[python]\n",
       "Start Date    datetime64[ns]\n",
       "Format        string[python]\n",
       "Inns                   Int64\n",
       "Dis                    Int64\n",
       "Ct                     Int64\n",
       "Opposition    string[python]\n",
       "Location      string[python]\n",
       "dtype: object"
      ]
     },
     "metadata": {},
     "output_type": "display_data"
    },
    {
     "data": {
      "text/plain": [
       "Player ID         int64\n",
       "Player URL       object\n",
       "FULL NAME        object\n",
       "BORN             object\n",
       "AGE              object\n",
       "NICKNAMES        object\n",
       "BATTING STYLE    object\n",
       "BOWLING STYLE    object\n",
       "PLAYING ROLE     object\n",
       "HEIGHT           object\n",
       "dtype: object"
      ]
     },
     "metadata": {},
     "output_type": "display_data"
    }
   ],
   "source": [
    "display(\n",
    "    johnson_tf_loader.battingstats.dtypes,\n",
    "    johnson_tf_loader.bowlingstats.dtypes,\n",
    "    johnson_tf_loader.fieldingstats.dtypes,\n",
    "    johnson_tf_loader.player_info.dtypes\n",
    ")"
   ]
  },
  {
   "cell_type": "markdown",
   "metadata": {},
   "source": [
    "### testing"
   ]
  },
  {
   "cell_type": "code",
   "execution_count": 8,
   "metadata": {},
   "outputs": [
    {
     "data": {
      "application/vnd.microsoft.datawrangler.viewer.v0+json": {
       "columns": [
        {
         "name": "index",
         "rawType": "int64",
         "type": "integer"
        },
        {
         "name": "Match ID",
         "rawType": "string",
         "type": "string"
        },
        {
         "name": "Start Date",
         "rawType": "datetime64[ns]",
         "type": "datetime"
        },
        {
         "name": "Format",
         "rawType": "string",
         "type": "string"
        },
        {
         "name": "Inns",
         "rawType": "Int64",
         "type": "integer"
        },
        {
         "name": "Pos",
         "rawType": "Int64",
         "type": "integer"
        },
        {
         "name": "Runs",
         "rawType": "Int64",
         "type": "integer"
        },
        {
         "name": "BF",
         "rawType": "Int64",
         "type": "integer"
        },
        {
         "name": "4s",
         "rawType": "Int64",
         "type": "integer"
        },
        {
         "name": "6s",
         "rawType": "Int64",
         "type": "integer"
        },
        {
         "name": "SR",
         "rawType": "float64",
         "type": "float"
        },
        {
         "name": "Mins",
         "rawType": "Int64",
         "type": "integer"
        },
        {
         "name": "Dismissal",
         "rawType": "string",
         "type": "string"
        },
        {
         "name": "Opposition",
         "rawType": "string",
         "type": "string"
        },
        {
         "name": "Location",
         "rawType": "string",
         "type": "string"
        }
       ],
       "conversionMethod": "pd.DataFrame",
       "ref": "16f832bc-bcce-48e2-87de-a9ef645bd058",
       "rows": [],
       "shape": {
        "columns": 14,
        "rows": 0
       }
      },
      "text/html": [
       "<div>\n",
       "<style scoped>\n",
       "    .dataframe tbody tr th:only-of-type {\n",
       "        vertical-align: middle;\n",
       "    }\n",
       "\n",
       "    .dataframe tbody tr th {\n",
       "        vertical-align: top;\n",
       "    }\n",
       "\n",
       "    .dataframe thead th {\n",
       "        text-align: right;\n",
       "    }\n",
       "</style>\n",
       "<table border=\"1\" class=\"dataframe\">\n",
       "  <thead>\n",
       "    <tr style=\"text-align: right;\">\n",
       "      <th></th>\n",
       "      <th>Match ID</th>\n",
       "      <th>Start Date</th>\n",
       "      <th>Format</th>\n",
       "      <th>Inns</th>\n",
       "      <th>Pos</th>\n",
       "      <th>Runs</th>\n",
       "      <th>BF</th>\n",
       "      <th>4s</th>\n",
       "      <th>6s</th>\n",
       "      <th>SR</th>\n",
       "      <th>Mins</th>\n",
       "      <th>Dismissal</th>\n",
       "      <th>Opposition</th>\n",
       "      <th>Location</th>\n",
       "    </tr>\n",
       "  </thead>\n",
       "  <tbody>\n",
       "  </tbody>\n",
       "</table>\n",
       "</div>"
      ],
      "text/plain": [
       "Empty DataFrame\n",
       "Columns: [Match ID, Start Date, Format, Inns, Pos, Runs, BF, 4s, 6s, SR, Mins, Dismissal, Opposition, Location]\n",
       "Index: []"
      ]
     },
     "execution_count": 8,
     "metadata": {},
     "output_type": "execute_result"
    }
   ],
   "source": [
    "virat_tf.battingstats[virat_tf.battingstats['Runs']=='sub']"
   ]
  },
  {
   "cell_type": "code",
   "execution_count": 9,
   "metadata": {},
   "outputs": [
    {
     "data": {
      "text/plain": [
       "<StringArray>\n",
       "[             'Dambulla',               'Colombo',             'Centurion',\n",
       "          'Johannesburg',              'Vadodara',                'Mohali',\n",
       "                'Rajkot',                'Nagpur',               'Kolkata',\n",
       "                 'Delhi',                'Mirpur',                'Jaipur',\n",
       "               'Gwalior',             'Ahmedabad',              'Bulawayo',\n",
       "                'Harare',         'Visakhapatnam',              'Guwahati',\n",
       "             'Bengaluru',               'Chennai',                'Durban',\n",
       "             'Cape Town',              'Gqeberha',                'Mumbai',\n",
       "         'Port of Spain',           'North Sound',      'Kingston Jamaica',\n",
       "            'Bridgetown',                'Roseau',            'Manchester',\n",
       "     'Chester-le-Street',           'Southampton',                'London',\n",
       "               'Cardiff',             'Hyderabad',               'Cuttack',\n",
       "                'Indore',             'Melbourne',                'Sydney',\n",
       "                 'Perth',              'Adelaide',              'Brisbane',\n",
       "                'Hobart',            'Hambantota',             'Pallekele',\n",
       "                  'Pune',                 'Kochi',                'Ranchi',\n",
       "           'Dharamshala',            'Birmingham',                'Kanpur',\n",
       "                'Napier',      'Hamilton Waikato',              'Auckland',\n",
       "            'Wellington',        'Fatullah Dhaka',            'Nottingham',\n",
       "                 'Leeds',                 'Galle',              'Canberra',\n",
       "            'Gros Islet',            'Lauderhill',    'Thiruvananthapuram',\n",
       "     'Dublin (Malahide)',               'Bristol',       'Mount Maunganui',\n",
       "     'Providence Guyana',          'Christchurch',                 'Dubai',\n",
       "             'Abu Dhabi',                 'Paarl', 'Chattogram Chittagong',\n",
       "                'Raipur',               'Lucknow',              'New York']\n",
       "Length: 75, dtype: string"
      ]
     },
     "execution_count": 9,
     "metadata": {},
     "output_type": "execute_result"
    }
   ],
   "source": [
    "virat_tf.battingstats['Location'].unique()"
   ]
  },
  {
   "cell_type": "code",
   "execution_count": 116,
   "metadata": {},
   "outputs": [
    {
     "data": {
      "application/vnd.microsoft.datawrangler.viewer.v0+json": {
       "columns": [
        {
         "name": "index",
         "rawType": "int64",
         "type": "integer"
        },
        {
         "name": "Match ID",
         "rawType": "string",
         "type": "string"
        },
        {
         "name": "Start Date",
         "rawType": "datetime64[ns]",
         "type": "datetime"
        },
        {
         "name": "Format",
         "rawType": "string",
         "type": "string"
        },
        {
         "name": "Inns",
         "rawType": "Int64",
         "type": "integer"
        },
        {
         "name": "Pos",
         "rawType": "Int64",
         "type": "integer"
        },
        {
         "name": "Overs",
         "rawType": "float64",
         "type": "float"
        },
        {
         "name": "Mdns",
         "rawType": "Int64",
         "type": "integer"
        },
        {
         "name": "Runs",
         "rawType": "Int64",
         "type": "integer"
        },
        {
         "name": "Wkts",
         "rawType": "Int64",
         "type": "integer"
        },
        {
         "name": "Econ",
         "rawType": "float64",
         "type": "float"
        },
        {
         "name": "Opposition",
         "rawType": "string",
         "type": "string"
        },
        {
         "name": "Location",
         "rawType": "string",
         "type": "string"
        }
       ],
       "conversionMethod": "pd.DataFrame",
       "ref": "ae2dc3fe-0e0d-4142-b2a5-3ff36a30cec3",
       "rows": [],
       "shape": {
        "columns": 12,
        "rows": 0
       }
      },
      "text/html": [
       "<div>\n",
       "<style scoped>\n",
       "    .dataframe tbody tr th:only-of-type {\n",
       "        vertical-align: middle;\n",
       "    }\n",
       "\n",
       "    .dataframe tbody tr th {\n",
       "        vertical-align: top;\n",
       "    }\n",
       "\n",
       "    .dataframe thead th {\n",
       "        text-align: right;\n",
       "    }\n",
       "</style>\n",
       "<table border=\"1\" class=\"dataframe\">\n",
       "  <thead>\n",
       "    <tr style=\"text-align: right;\">\n",
       "      <th></th>\n",
       "      <th>Match ID</th>\n",
       "      <th>Start Date</th>\n",
       "      <th>Format</th>\n",
       "      <th>Inns</th>\n",
       "      <th>Pos</th>\n",
       "      <th>Overs</th>\n",
       "      <th>Mdns</th>\n",
       "      <th>Runs</th>\n",
       "      <th>Wkts</th>\n",
       "      <th>Econ</th>\n",
       "      <th>Opposition</th>\n",
       "      <th>Location</th>\n",
       "    </tr>\n",
       "  </thead>\n",
       "  <tbody>\n",
       "  </tbody>\n",
       "</table>\n",
       "</div>"
      ],
      "text/plain": [
       "Empty DataFrame\n",
       "Columns: [Match ID, Start Date, Format, Inns, Pos, Overs, Mdns, Runs, Wkts, Econ, Opposition, Location]\n",
       "Index: []"
      ]
     },
     "execution_count": 116,
     "metadata": {},
     "output_type": "execute_result"
    }
   ],
   "source": [
    "johnson_tf.bowlingstats[johnson_tf.bowlingstats['Location'].isna()]"
   ]
  },
  {
   "cell_type": "code",
   "execution_count": 117,
   "metadata": {},
   "outputs": [
    {
     "data": {
      "application/vnd.microsoft.datawrangler.viewer.v0+json": {
       "columns": [
        {
         "name": "index",
         "rawType": "int64",
         "type": "integer"
        },
        {
         "name": "Overs",
         "rawType": "object",
         "type": "string"
        },
        {
         "name": "Mdns",
         "rawType": "object",
         "type": "string"
        },
        {
         "name": "Runs",
         "rawType": "object",
         "type": "string"
        },
        {
         "name": "Wkts",
         "rawType": "object",
         "type": "string"
        },
        {
         "name": "Econ",
         "rawType": "object",
         "type": "string"
        },
        {
         "name": "Pos",
         "rawType": "object",
         "type": "string"
        },
        {
         "name": "Inns",
         "rawType": "object",
         "type": "string"
        },
        {
         "name": "Opposition",
         "rawType": "object",
         "type": "string"
        },
        {
         "name": "Ground",
         "rawType": "object",
         "type": "string"
        },
        {
         "name": "Start Date",
         "rawType": "object",
         "type": "string"
        },
        {
         "name": "Match id",
         "rawType": "object",
         "type": "string"
        }
       ],
       "conversionMethod": "pd.DataFrame",
       "ref": "7cd529cc-07f5-4229-999b-f4ab3b4115f2",
       "rows": [
        [
         "120",
         "10.0",
         "1",
         "39",
         "2",
         "3.90",
         "3",
         "1",
         "ODI v England",
         "Southampton",
         "9 Sep 2009",
         "ODI # 2885"
        ],
        [
         "247",
         "8.0",
         "0",
         "44",
         "0",
         "5.50",
         "2",
         "1",
         "ODI v England",
         "Birmingham",
         "8 Jun 2013",
         "ODI # 3365"
        ]
       ],
       "shape": {
        "columns": 11,
        "rows": 2
       }
      },
      "text/html": [
       "<div>\n",
       "<style scoped>\n",
       "    .dataframe tbody tr th:only-of-type {\n",
       "        vertical-align: middle;\n",
       "    }\n",
       "\n",
       "    .dataframe tbody tr th {\n",
       "        vertical-align: top;\n",
       "    }\n",
       "\n",
       "    .dataframe thead th {\n",
       "        text-align: right;\n",
       "    }\n",
       "</style>\n",
       "<table border=\"1\" class=\"dataframe\">\n",
       "  <thead>\n",
       "    <tr style=\"text-align: right;\">\n",
       "      <th></th>\n",
       "      <th>Overs</th>\n",
       "      <th>Mdns</th>\n",
       "      <th>Runs</th>\n",
       "      <th>Wkts</th>\n",
       "      <th>Econ</th>\n",
       "      <th>Pos</th>\n",
       "      <th>Inns</th>\n",
       "      <th>Opposition</th>\n",
       "      <th>Ground</th>\n",
       "      <th>Start Date</th>\n",
       "      <th>Match id</th>\n",
       "    </tr>\n",
       "  </thead>\n",
       "  <tbody>\n",
       "    <tr>\n",
       "      <th>120</th>\n",
       "      <td>10.0</td>\n",
       "      <td>1</td>\n",
       "      <td>39</td>\n",
       "      <td>2</td>\n",
       "      <td>3.90</td>\n",
       "      <td>3</td>\n",
       "      <td>1</td>\n",
       "      <td>ODI v England</td>\n",
       "      <td>Southampton</td>\n",
       "      <td>9 Sep 2009</td>\n",
       "      <td>ODI # 2885</td>\n",
       "    </tr>\n",
       "    <tr>\n",
       "      <th>247</th>\n",
       "      <td>8.0</td>\n",
       "      <td>0</td>\n",
       "      <td>44</td>\n",
       "      <td>0</td>\n",
       "      <td>5.50</td>\n",
       "      <td>2</td>\n",
       "      <td>1</td>\n",
       "      <td>ODI v England</td>\n",
       "      <td>Birmingham</td>\n",
       "      <td>8 Jun 2013</td>\n",
       "      <td>ODI # 3365</td>\n",
       "    </tr>\n",
       "  </tbody>\n",
       "</table>\n",
       "</div>"
      ],
      "text/plain": [
       "    Overs Mdns Runs Wkts  Econ Pos Inns     Opposition       Ground  \\\n",
       "120  10.0    1   39    2  3.90   3    1  ODI v England  Southampton   \n",
       "247   8.0    0   44    0  5.50   2    1  ODI v England   Birmingham   \n",
       "\n",
       "     Start Date    Match id  \n",
       "120  9 Sep 2009  ODI # 2885  \n",
       "247  8 Jun 2013  ODI # 3365  "
      ]
     },
     "execution_count": 117,
     "metadata": {},
     "output_type": "execute_result"
    }
   ],
   "source": [
    "johnson_raw.bowlingstats.iloc[[120,247],:]"
   ]
  },
  {
   "cell_type": "code",
   "execution_count": 14,
   "metadata": {},
   "outputs": [
    {
     "data": {
      "application/vnd.microsoft.datawrangler.viewer.v0+json": {
       "columns": [
        {
         "name": "index",
         "rawType": "int64",
         "type": "integer"
        },
        {
         "name": "Match ID",
         "rawType": "string",
         "type": "string"
        },
        {
         "name": "Start Date",
         "rawType": "datetime64[ns]",
         "type": "datetime"
        },
        {
         "name": "Format",
         "rawType": "string",
         "type": "string"
        },
        {
         "name": "Inns",
         "rawType": "Int64",
         "type": "integer"
        },
        {
         "name": "Pos",
         "rawType": "Int64",
         "type": "integer"
        },
        {
         "name": "Runs",
         "rawType": "Int64",
         "type": "integer"
        },
        {
         "name": "BF",
         "rawType": "Int64",
         "type": "integer"
        },
        {
         "name": "4s",
         "rawType": "Int64",
         "type": "integer"
        },
        {
         "name": "6s",
         "rawType": "Int64",
         "type": "integer"
        },
        {
         "name": "SR",
         "rawType": "float64",
         "type": "float"
        },
        {
         "name": "Mins",
         "rawType": "Int64",
         "type": "integer"
        },
        {
         "name": "Dismissal",
         "rawType": "string",
         "type": "string"
        },
        {
         "name": "Opposition",
         "rawType": "string",
         "type": "string"
        },
        {
         "name": "Location",
         "rawType": "string",
         "type": "string"
        }
       ],
       "conversionMethod": "pd.DataFrame",
       "ref": "9c42fe7e-a49c-4eac-97bb-1fdb9931cc6e",
       "rows": [],
       "shape": {
        "columns": 14,
        "rows": 0
       }
      },
      "text/html": [
       "<div>\n",
       "<style scoped>\n",
       "    .dataframe tbody tr th:only-of-type {\n",
       "        vertical-align: middle;\n",
       "    }\n",
       "\n",
       "    .dataframe tbody tr th {\n",
       "        vertical-align: top;\n",
       "    }\n",
       "\n",
       "    .dataframe thead th {\n",
       "        text-align: right;\n",
       "    }\n",
       "</style>\n",
       "<table border=\"1\" class=\"dataframe\">\n",
       "  <thead>\n",
       "    <tr style=\"text-align: right;\">\n",
       "      <th></th>\n",
       "      <th>Match ID</th>\n",
       "      <th>Start Date</th>\n",
       "      <th>Format</th>\n",
       "      <th>Inns</th>\n",
       "      <th>Pos</th>\n",
       "      <th>Runs</th>\n",
       "      <th>BF</th>\n",
       "      <th>4s</th>\n",
       "      <th>6s</th>\n",
       "      <th>SR</th>\n",
       "      <th>Mins</th>\n",
       "      <th>Dismissal</th>\n",
       "      <th>Opposition</th>\n",
       "      <th>Location</th>\n",
       "    </tr>\n",
       "  </thead>\n",
       "  <tbody>\n",
       "  </tbody>\n",
       "</table>\n",
       "</div>"
      ],
      "text/plain": [
       "Empty DataFrame\n",
       "Columns: [Match ID, Start Date, Format, Inns, Pos, Runs, BF, 4s, 6s, SR, Mins, Dismissal, Opposition, Location]\n",
       "Index: []"
      ]
     },
     "execution_count": 14,
     "metadata": {},
     "output_type": "execute_result"
    }
   ],
   "source": [
    "kallis_tf.battingstats[kallis_tf.battingstats['Location'].isna()]"
   ]
  },
  {
   "cell_type": "code",
   "execution_count": 15,
   "metadata": {},
   "outputs": [
    {
     "data": {
      "text/plain": [
       "Runs                        48*\n",
       "Mins                         81\n",
       "BF                           44\n",
       "4s                            7\n",
       "6s                            0\n",
       "SR                       109.09\n",
       "Pos                           2\n",
       "Dismissal               not out\n",
       "Inns                          2\n",
       "Opposition       T20I v England\n",
       "Ground        Chester-le-Street\n",
       "Start Date           8 Sep 2012\n",
       "Match id             T20I # 258\n",
       "Name: 612, dtype: object"
      ]
     },
     "execution_count": 15,
     "metadata": {},
     "output_type": "execute_result"
    }
   ],
   "source": [
    "kallis_raw.battingstats.iloc[612,:]"
   ]
  },
  {
   "cell_type": "code",
   "execution_count": 16,
   "metadata": {},
   "outputs": [
    {
     "data": {
      "text/plain": [
       "Match ID                     #258\n",
       "Start Date    2012-09-08 00:00:00\n",
       "Format                       T20I\n",
       "Inns                            2\n",
       "Pos                             2\n",
       "Runs                           48\n",
       "BF                             44\n",
       "4s                              7\n",
       "6s                              0\n",
       "SR                         109.09\n",
       "Mins                           81\n",
       "Dismissal                 not out\n",
       "Opposition                England\n",
       "Location        Chester-le-Street\n",
       "Name: 612, dtype: object"
      ]
     },
     "execution_count": 16,
     "metadata": {},
     "output_type": "execute_result"
    }
   ],
   "source": [
    "kallis_tf.battingstats.iloc[612,:]"
   ]
  },
  {
   "cell_type": "code",
   "execution_count": 120,
   "metadata": {},
   "outputs": [
    {
     "data": {
      "application/vnd.microsoft.datawrangler.viewer.v0+json": {
       "columns": [
        {
         "name": "index",
         "rawType": "int64",
         "type": "integer"
        },
        {
         "name": "Match ID",
         "rawType": "string",
         "type": "string"
        },
        {
         "name": "Start Date",
         "rawType": "datetime64[ns]",
         "type": "datetime"
        },
        {
         "name": "Format",
         "rawType": "string",
         "type": "string"
        },
        {
         "name": "Inns",
         "rawType": "Int64",
         "type": "integer"
        },
        {
         "name": "Score",
         "rawType": "string",
         "type": "string"
        },
        {
         "name": "Overs",
         "rawType": "float64",
         "type": "float"
        },
        {
         "name": "Conc",
         "rawType": "Int64",
         "type": "integer"
        },
        {
         "name": "Wkts",
         "rawType": "Int64",
         "type": "integer"
        },
        {
         "name": "Ct",
         "rawType": "Int64",
         "type": "integer"
        },
        {
         "name": "St",
         "rawType": "Int64",
         "type": "integer"
        },
        {
         "name": "Opposition",
         "rawType": "string",
         "type": "string"
        },
        {
         "name": "Location",
         "rawType": "string",
         "type": "string"
        }
       ],
       "conversionMethod": "pd.DataFrame",
       "ref": "6676a6ca-7c07-4c09-b1f5-2d3c5f0c7872",
       "rows": [],
       "shape": {
        "columns": 12,
        "rows": 0
       }
      },
      "text/html": [
       "<div>\n",
       "<style scoped>\n",
       "    .dataframe tbody tr th:only-of-type {\n",
       "        vertical-align: middle;\n",
       "    }\n",
       "\n",
       "    .dataframe tbody tr th {\n",
       "        vertical-align: top;\n",
       "    }\n",
       "\n",
       "    .dataframe thead th {\n",
       "        text-align: right;\n",
       "    }\n",
       "</style>\n",
       "<table border=\"1\" class=\"dataframe\">\n",
       "  <thead>\n",
       "    <tr style=\"text-align: right;\">\n",
       "      <th></th>\n",
       "      <th>Match ID</th>\n",
       "      <th>Start Date</th>\n",
       "      <th>Format</th>\n",
       "      <th>Inns</th>\n",
       "      <th>Score</th>\n",
       "      <th>Overs</th>\n",
       "      <th>Conc</th>\n",
       "      <th>Wkts</th>\n",
       "      <th>Ct</th>\n",
       "      <th>St</th>\n",
       "      <th>Opposition</th>\n",
       "      <th>Location</th>\n",
       "    </tr>\n",
       "  </thead>\n",
       "  <tbody>\n",
       "  </tbody>\n",
       "</table>\n",
       "</div>"
      ],
      "text/plain": [
       "Empty DataFrame\n",
       "Columns: [Match ID, Start Date, Format, Inns, Score, Overs, Conc, Wkts, Ct, St, Opposition, Location]\n",
       "Index: []"
      ]
     },
     "execution_count": 120,
     "metadata": {},
     "output_type": "execute_result"
    }
   ],
   "source": [
    "kallis_tf.allroundstats[kallis_tf.allroundstats['Location'].isna()]"
   ]
  }
 ],
 "metadata": {
  "kernelspec": {
   "display_name": "Python 3",
   "language": "python",
   "name": "python3"
  },
  "language_info": {
   "codemirror_mode": {
    "name": "ipython",
    "version": 3
   },
   "file_extension": ".py",
   "mimetype": "text/x-python",
   "name": "python",
   "nbconvert_exporter": "python",
   "pygments_lexer": "ipython3",
   "version": "3.13.0"
  }
 },
 "nbformat": 4,
 "nbformat_minor": 2
}
